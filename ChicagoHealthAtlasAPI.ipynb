{
 "cells": [
  {
   "cell_type": "code",
   "execution_count": 1,
   "metadata": {
    "collapsed": true
   },
   "outputs": [],
   "source": [
    "import requests\n",
    "import json\n",
    "import pandas as pd"
   ]
  },
  {
   "cell_type": "code",
   "execution_count": 2,
   "metadata": {
    "collapsed": true
   },
   "outputs": [],
   "source": [
    "#Get data on community areas \n",
    "r_places = requests.get('https://chicagohealth.herokuapp.com/api/v1/places')\n",
    "places_data = r_places.json()"
   ]
  },
  {
   "cell_type": "code",
   "execution_count": 8,
   "metadata": {},
   "outputs": [],
   "source": [
    "#Get data on all resources in chicago\n",
    "r_resources = requests.get('https://chicagohealth.herokuapp.com/api/v1/resources_all')\n",
    "resources_data = r_resources.json()"
   ]
  },
  {
   "cell_type": "code",
   "execution_count": null,
   "metadata": {},
   "outputs": [],
   "source": []
  },
  {
   "cell_type": "code",
   "execution_count": 11,
   "metadata": {
    "collapsed": true
   },
   "outputs": [],
   "source": [
    "#Get 1990, 2000, 2010 data on life expectancy\n",
    "r_le_1990 = requests.get('https://chicagohealth.herokuapp.com/api/v1/topic_area/1990/life-expectancy')\n",
    "r_le_2000 = requests.get('https://chicagohealth.herokuapp.com/api/v1/topic_area/2000/life-expectancy')\n",
    "r_le_2010 = requests.get('https://chicagohealth.herokuapp.com/api/v1/topic_area/2010/life-expectancy')"
   ]
  },
  {
   "cell_type": "code",
   "execution_count": 12,
   "metadata": {},
   "outputs": [],
   "source": [
    "le_1990_data = r_le_1990.json()\n",
    "le_2000_data = r_le_2000.json()\n",
    "le_2010_data = r_le_2010.json() "
   ]
  },
  {
   "cell_type": "code",
   "execution_count": 18,
   "metadata": {},
   "outputs": [
    {
     "data": {
      "text/html": [
       "<div>\n",
       "<style>\n",
       "    .dataframe thead tr:only-child th {\n",
       "        text-align: right;\n",
       "    }\n",
       "\n",
       "    .dataframe thead th {\n",
       "        text-align: left;\n",
       "    }\n",
       "\n",
       "    .dataframe tbody tr th {\n",
       "        vertical-align: top;\n",
       "    }\n",
       "</style>\n",
       "<table border=\"1\" class=\"dataframe\">\n",
       "  <thead>\n",
       "    <tr style=\"text-align: right;\">\n",
       "      <th></th>\n",
       "      <th>geo_id</th>\n",
       "      <th>geo_name</th>\n",
       "      <th>ind_id</th>\n",
       "      <th>life_exp</th>\n",
       "    </tr>\n",
       "  </thead>\n",
       "  <tbody>\n",
       "    <tr>\n",
       "      <th>0</th>\n",
       "      <td>224979</td>\n",
       "      <td>1-Rogers Park</td>\n",
       "      <td>652</td>\n",
       "      <td>73</td>\n",
       "    </tr>\n",
       "    <tr>\n",
       "      <th>1</th>\n",
       "      <td>224980</td>\n",
       "      <td>2-West Ridge</td>\n",
       "      <td>652</td>\n",
       "      <td>78</td>\n",
       "    </tr>\n",
       "    <tr>\n",
       "      <th>2</th>\n",
       "      <td>224981</td>\n",
       "      <td>3-Uptown</td>\n",
       "      <td>652</td>\n",
       "      <td>71</td>\n",
       "    </tr>\n",
       "    <tr>\n",
       "      <th>3</th>\n",
       "      <td>224982</td>\n",
       "      <td>4-Lincoln Square</td>\n",
       "      <td>652</td>\n",
       "      <td>76</td>\n",
       "    </tr>\n",
       "    <tr>\n",
       "      <th>4</th>\n",
       "      <td>224983</td>\n",
       "      <td>5-North Center</td>\n",
       "      <td>652</td>\n",
       "      <td>77</td>\n",
       "    </tr>\n",
       "  </tbody>\n",
       "</table>\n",
       "</div>"
      ],
      "text/plain": [
       "   geo_id          geo_name  ind_id  life_exp\n",
       "0  224979     1-Rogers Park     652        73\n",
       "1  224980      2-West Ridge     652        78\n",
       "2  224981          3-Uptown     652        71\n",
       "3  224982  4-Lincoln Square     652        76\n",
       "4  224983    5-North Center     652        77"
      ]
     },
     "execution_count": 18,
     "metadata": {},
     "output_type": "execute_result"
    }
   ],
   "source": [
    "#Convert to Pandas DF and then to CSV\n",
    "\n",
    "geo_name, geo_id, ind_id, le = [],[],[],[]\n",
    "for result in le_1990_data:\n",
    "    geo_name.append(result[\"geo_group_name\"])\n",
    "    geo_id.append(result[\"id\"])\n",
    "    ind_id.append(result[\"indicator\"][\"id\"])\n",
    "    le.append(result[\"number\"])\n",
    "le_1990 = pd.DataFrame({'geo_name': geo_name, 'geo_id': geo_id, 'ind_id': ind_id, 'life_exp': le})\n",
    "le_1990.to_csv(\".\\data\\CHA_le_1990.csv\")\n",
    "\n",
    "geo_name, geo_id, ind_id, le = [],[],[],[]\n",
    "for result in le_2000_data:\n",
    "    geo_name.append(result[\"geo_group_name\"])\n",
    "    geo_id.append(result[\"id\"])\n",
    "    ind_id.append(result[\"indicator\"][\"id\"])\n",
    "    le.append(result[\"number\"])\n",
    "le_2000 = pd.DataFrame({'geo_name': geo_name, 'geo_id': geo_id, 'ind_id': ind_id, 'life_exp': le})\n",
    "le_2000.to_csv(\".\\data\\CHA_le_2000.csv\")\n",
    "\n",
    "geo_name, geo_id, ind_id, le = [],[],[],[]\n",
    "for result in le_2010_data:\n",
    "    geo_name.append(result[\"geo_group_name\"])\n",
    "    geo_id.append(result[\"id\"])\n",
    "    ind_id.append(result[\"indicator\"][\"id\"])\n",
    "    le.append(result[\"number\"])\n",
    "le_2010 = pd.DataFrame({'geo_name': geo_name, 'geo_id': geo_id, 'ind_id': ind_id, 'life_exp': le})\n",
    "le_2010.to_csv(\".\\data\\CHA_le_2010.csv\")"
   ]
  },
  {
   "cell_type": "code",
   "execution_count": 23,
   "metadata": {},
   "outputs": [],
   "source": [
    "#Get 2016 overall health status data\n",
    "r_ohs_2016 = requests.get('https://chicagohealth.herokuapp.com/api/v1/topic_area/2014-2016/overall-health-status')\n",
    "ohs_2016_data = r_ohs_2016.json()\n",
    "\n",
    "geo_name, geo_id, ind_id, ohs_low_ci, ohs_hi_ci, wt_num, ohs_weight = [],[],[],[],[],[], []\n",
    "for result in ohs_2016_data:\n",
    "    geo_name.append(result[\"geo_group_name\"])\n",
    "    geo_id.append(result[\"id\"])\n",
    "    ind_id.append(result[\"indicator\"][\"id\"])\n",
    "    le.append(result[\"number\"])\n",
    "    ohs_low_ci.append(result[\"lower_95ci_weight_percent\"])\n",
    "    ohs_hi_ci.append(result[\"upper_95ci_weight_percent\"])\n",
    "    wt_num.append(result[\"weight_number\"])\n",
    "    ohs_weight.append(result[\"weight_percent\"])\n",
    "ohs_2016 = pd.DataFrame({'geo_name': geo_name, 'geo_id': geo_id, 'ind_id': ind_id, 'ohs_low_ci': ohs_low_ci, 'ohs_hi_ci': ohs_hi_ci, \n",
    "                       'wt_num': wt_num, 'ohs_weight': ohs_weight})\n",
    "ohs_2016.to_csv(\".\\data\\ohs_2016.csv\")"
   ]
  },
  {
   "cell_type": "code",
   "execution_count": 24,
   "metadata": {},
   "outputs": [
    {
     "data": {
      "text/html": [
       "<div>\n",
       "<style>\n",
       "    .dataframe thead tr:only-child th {\n",
       "        text-align: right;\n",
       "    }\n",
       "\n",
       "    .dataframe thead th {\n",
       "        text-align: left;\n",
       "    }\n",
       "\n",
       "    .dataframe tbody tr th {\n",
       "        vertical-align: top;\n",
       "    }\n",
       "</style>\n",
       "<table border=\"1\" class=\"dataframe\">\n",
       "  <thead>\n",
       "    <tr style=\"text-align: right;\">\n",
       "      <th></th>\n",
       "      <th>geo_id</th>\n",
       "      <th>geo_name</th>\n",
       "      <th>ind_id</th>\n",
       "      <th>ohs_hi_ci</th>\n",
       "      <th>ohs_low_ci</th>\n",
       "      <th>ohs_weight</th>\n",
       "      <th>wt_num</th>\n",
       "    </tr>\n",
       "  </thead>\n",
       "  <tbody>\n",
       "    <tr>\n",
       "      <th>0</th>\n",
       "      <td>224433</td>\n",
       "      <td>1-Rogers Park</td>\n",
       "      <td>649</td>\n",
       "      <td>87.9</td>\n",
       "      <td>69.3</td>\n",
       "      <td>78.6</td>\n",
       "      <td>37000.0</td>\n",
       "    </tr>\n",
       "    <tr>\n",
       "      <th>1</th>\n",
       "      <td>224434</td>\n",
       "      <td>2-West Ridge</td>\n",
       "      <td>649</td>\n",
       "      <td>94.5</td>\n",
       "      <td>83.1</td>\n",
       "      <td>88.8</td>\n",
       "      <td>53600.0</td>\n",
       "    </tr>\n",
       "    <tr>\n",
       "      <th>2</th>\n",
       "      <td>224435</td>\n",
       "      <td>3-Uptown</td>\n",
       "      <td>649</td>\n",
       "      <td>95.7</td>\n",
       "      <td>80.7</td>\n",
       "      <td>88.2</td>\n",
       "      <td>32500.0</td>\n",
       "    </tr>\n",
       "    <tr>\n",
       "      <th>3</th>\n",
       "      <td>224436</td>\n",
       "      <td>4-Lincoln Square</td>\n",
       "      <td>649</td>\n",
       "      <td>94.6</td>\n",
       "      <td>81.5</td>\n",
       "      <td>88.1</td>\n",
       "      <td>29000.0</td>\n",
       "    </tr>\n",
       "    <tr>\n",
       "      <th>4</th>\n",
       "      <td>224437</td>\n",
       "      <td>5-North Center</td>\n",
       "      <td>649</td>\n",
       "      <td>100.0</td>\n",
       "      <td>82.2</td>\n",
       "      <td>91.9</td>\n",
       "      <td>18300.0</td>\n",
       "    </tr>\n",
       "  </tbody>\n",
       "</table>\n",
       "</div>"
      ],
      "text/plain": [
       "   geo_id          geo_name  ind_id  ohs_hi_ci  ohs_low_ci  ohs_weight  \\\n",
       "0  224433     1-Rogers Park     649       87.9        69.3        78.6   \n",
       "1  224434      2-West Ridge     649       94.5        83.1        88.8   \n",
       "2  224435          3-Uptown     649       95.7        80.7        88.2   \n",
       "3  224436  4-Lincoln Square     649       94.6        81.5        88.1   \n",
       "4  224437    5-North Center     649      100.0        82.2        91.9   \n",
       "\n",
       "    wt_num  \n",
       "0  37000.0  \n",
       "1  53600.0  \n",
       "2  32500.0  \n",
       "3  29000.0  \n",
       "4  18300.0  "
      ]
     },
     "execution_count": 24,
     "metadata": {},
     "output_type": "execute_result"
    }
   ],
   "source": []
  },
  {
   "cell_type": "code",
   "execution_count": 32,
   "metadata": {
    "collapsed": true
   },
   "outputs": [],
   "source": [
    "#Get 2000, 2010 infant mortality data\n",
    "r_im_2000 = requests.get('https://chicagohealth.herokuapp.com/api/v1/topic_area/2000-2004/infant-mortality')\n",
    "r_im_2010 = requests.get('https://chicagohealth.herokuapp.com/api/v1/topic_area/2010-2014/infant-mortality')\n",
    "r_im_2000_data = r_im_2000.json()\n",
    "r_im_2010_data = r_im_2010.json()"
   ]
  }
 ],
 "metadata": {
  "kernelspec": {
   "display_name": "Python 3",
   "language": "python",
   "name": "python3"
  },
  "language_info": {
   "codemirror_mode": {
    "name": "ipython",
    "version": 3
   },
   "file_extension": ".py",
   "mimetype": "text/x-python",
   "name": "python",
   "nbconvert_exporter": "python",
   "pygments_lexer": "ipython3",
   "version": "3.6.3"
  }
 },
 "nbformat": 4,
 "nbformat_minor": 2
}
