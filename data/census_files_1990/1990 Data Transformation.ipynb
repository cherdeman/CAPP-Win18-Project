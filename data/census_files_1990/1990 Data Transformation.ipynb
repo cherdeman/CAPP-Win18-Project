{
 "cells": [
  {
   "cell_type": "code",
   "execution_count": 10,
   "metadata": {
    "collapsed": true
   },
   "outputs": [],
   "source": [
    "import pandas as pd\n",
    "import os\n",
    "import csv"
   ]
  },
  {
   "cell_type": "code",
   "execution_count": 11,
   "metadata": {
    "collapsed": true
   },
   "outputs": [],
   "source": [
    "absolute_filepath = '/Users/claire/Documents/CS 122 Project Files/1990 Raw Data/'"
   ]
  },
  {
   "cell_type": "code",
   "execution_count": 12,
   "metadata": {
    "collapsed": true
   },
   "outputs": [],
   "source": [
    "# Context columns to drop\n",
    "drop_cols = ['ANRCA', 'RES_ONLYA', 'TRUSTA', 'AIANHHA', 'RES_TRSTA', 'CDA', 'CTY_SUBA', \n",
    "             'DIVISIONA', 'PLACEA', 'PMSAA', 'REGIONA', 'URBRURALA', 'URB_AREAA', 'CD103A', 'ANPSADPI', \n",
    "            'COUNTYA', 'STATEA']"
   ]
  },
  {
   "cell_type": "code",
   "execution_count": 13,
   "metadata": {
    "collapsed": true
   },
   "outputs": [],
   "source": [
    "# Housing columns to drop\n",
    "housing_drop_cols = ['ETQ001','ETQ002','ETQ003','ETQ004','ETQ005','ETQ006', \n",
    "                     'ESR001','ESR002','ESR003', 'ESR004','ESR005','ESR006','ESR007', 'ESR008',\n",
    "                     'ESR009','ESR010','ESR011', 'ESR012','ESR013','ESR014',\n",
    "                     'ESR015','ESR016','ESR017', 'ESR018', 'ESR019','ESR020', \n",
    "                     'ES4001', 'ES4002','ES4003','ES4004','ES4005','ES4006',\n",
    "                     'ES4007','ES4008','ES4009','ES4010','ES4011', 'ES4012',\n",
    "                     'ES4013','ES4014','ES4015','ES4016','ES4017','ESW001',\n",
    "                     'ESW002','ESW003','ESW004','ESW005', 'ETZ001', 'ETZ002',\n",
    "                     'ETZ003','ETZ004','ETZ005']"
   ]
  },
  {
   "cell_type": "code",
   "execution_count": 14,
   "metadata": {
    "collapsed": true
   },
   "outputs": [],
   "source": [
    "# Map coded columns to values\n",
    "race_col_dict = {'EUY001': 'White', 'EUY002': 'Black', 'EUY003': 'American Indian, Eskimo, or Aleut',\n",
    "                 'EUY004': 'Asian or Pacific Islander', 'EUY005': 'Other race', 'EST001':'Median Value'}"
   ]
  },
  {
   "cell_type": "code",
   "execution_count": 15,
   "metadata": {
    "collapsed": true
   },
   "outputs": [],
   "source": [
    "# Map coded columns to values\n",
    "housing_col_dict = {'ESA001': 'Total Units', 'ESN001': 'Total Occupied Units', 'ESN002': 'Vacant', 'ES1001': 'Owner occupied', \n",
    "                    'ES1002': 'Renter occupied', 'EST001': 'Median'}"
   ]
  },
  {
   "cell_type": "code",
   "execution_count": 16,
   "metadata": {
    "collapsed": true
   },
   "outputs": [],
   "source": [
    "# Mapping for dropped columns, likely unneeded\n",
    "unused_col_dict = {'ETQ001': 'For rent', 'ETQ002': 'For sale only',\n",
    "                    'ETQ003': 'Rented or sold, not occupied', 'ETQ004': 'For seasonal, recreational, or occasional use',\n",
    "                    'ETQ005': 'For migrant workers', 'ETQ006': 'Other vacant', 'ETZ001': 'White',\n",
    "                    'ETZ002': 'Black', 'ETZ003': 'American Indian, Eskimo, or Aleut', \n",
    "                    'ETZ004': 'Asian or Pacific Islander', 'ETZ005': 'Other race','ESR001': 'Less than $15,000','ESR002':'$15,000 to $19,999',\n",
    "                    'ESR003':'$20,000 to $24,999', 'ESR004': '$25,000 to $29,999','ESR005': '$30,000 to $34,999',\n",
    "                    'ESR006': '$35,000 to $39,999','ESR007': '$40,000 to $44,999', 'ESR008': '$45,000 to $49,999',\n",
    "                    'ESR009': '$50,000 to $59,999','ESR010':'$60,000 to $74,999','ESR011':'$75,000 to $99,999',\n",
    "                    'ESR012':'$100,000 to $124,999','ESR013': '$125,000 to $149,999','ESR014':'$150,000 to $174,999',\n",
    "                    'ESR015':'$175,000 to $199,999','ESR016':'$200,000 to $249,999','ESR017':'$250,000 to $299,999',\n",
    "                    'ESR018':'$300,000 to $399,999', 'ESR019':'$400,000 to $499,999','ESR020':'$500,000 or more'}"
   ]
  },
  {
   "cell_type": "code",
   "execution_count": 17,
   "metadata": {
    "collapsed": true
   },
   "outputs": [],
   "source": [
    "chicago_msa_code = 1602"
   ]
  },
  {
   "cell_type": "code",
   "execution_count": 18,
   "metadata": {},
   "outputs": [],
   "source": [
    "# Load housing data into df\n",
    "if os.path.exists(absolute_filepath + 'nhgis0004_ds120_1990_block.csv'):\n",
    "    housing_df = pd.read_csv(absolute_filepath + 'nhgis0004_ds120_1990_block.csv', index_col = 0).drop(drop_cols, axis = 1)\n",
    "else:\n",
    "    raise IOError('This file does not exists in this location')"
   ]
  },
  {
   "cell_type": "code",
   "execution_count": 19,
   "metadata": {
    "collapsed": true
   },
   "outputs": [],
   "source": [
    "# Load race data into df\n",
    "if os.path.exists(absolute_filepath + 'nhgis0005_ds120_1990_block.csv'):\n",
    "    race_df = pd.read_csv(absolute_filepath + 'nhgis0005_ds120_1990_block.csv', index_col = 0).drop(drop_cols, axis = 1)\n",
    "else:\n",
    "    raise IOError('This file does not exists in this location')"
   ]
  },
  {
   "cell_type": "code",
   "execution_count": 20,
   "metadata": {
    "collapsed": true
   },
   "outputs": [],
   "source": [
    "# Race dataframe data manipulations\n",
    "race_df.rename(columns = race_col_dict, inplace = True)\n",
    "race_df['Other races'] = race_df[['American Indian, Eskimo, or Aleut', 'Asian or Pacific Islander', 'Other race']].sum(axis = 1)\n",
    "race_df.drop(['American Indian, Eskimo, or Aleut', 'Asian or Pacific Islander', 'Other race'], axis = 1, inplace = True)\n",
    "race_df['Total Pop'] = race_df[['White', 'Black', 'Other races']].sum(axis = 1)\n",
    "chi_race_df = race_df[race_df['MSA_CMSAA'] == chicago_msa_code]"
   ]
  },
  {
   "cell_type": "code",
   "execution_count": 21,
   "metadata": {},
   "outputs": [
    {
     "name": "stderr",
     "output_type": "stream",
     "text": [
      "/Users/claire/anaconda3/lib/python3.6/site-packages/ipykernel_launcher.py:2: SettingWithCopyWarning: \n",
      "A value is trying to be set on a copy of a slice from a DataFrame.\n",
      "Try using .loc[row_indexer,col_indexer] = value instead\n",
      "\n",
      "See the caveats in the documentation: http://pandas.pydata.org/pandas-docs/stable/indexing.html#indexing-view-versus-copy\n",
      "  \n",
      "/Users/claire/anaconda3/lib/python3.6/site-packages/ipykernel_launcher.py:3: SettingWithCopyWarning: \n",
      "A value is trying to be set on a copy of a slice from a DataFrame.\n",
      "Try using .loc[row_indexer,col_indexer] = value instead\n",
      "\n",
      "See the caveats in the documentation: http://pandas.pydata.org/pandas-docs/stable/indexing.html#indexing-view-versus-copy\n",
      "  This is separate from the ipykernel package so we can avoid doing imports until\n",
      "/Users/claire/anaconda3/lib/python3.6/site-packages/ipykernel_launcher.py:4: SettingWithCopyWarning: \n",
      "A value is trying to be set on a copy of a slice from a DataFrame.\n",
      "Try using .loc[row_indexer,col_indexer] = value instead\n",
      "\n",
      "See the caveats in the documentation: http://pandas.pydata.org/pandas-docs/stable/indexing.html#indexing-view-versus-copy\n",
      "  after removing the cwd from sys.path.\n"
     ]
    }
   ],
   "source": [
    "# Calculate %s from values\n",
    "chi_race_df['% White'] = chi_race_df['White']/chi_race_df['Total Pop']\n",
    "chi_race_df['% Black'] = chi_race_df['Black']/chi_race_df['Total Pop']\n",
    "chi_race_df['% Other races'] = chi_race_df['Other races']/chi_race_df['Total Pop']\n",
    "chi_race_df = chi_race_df.drop(['White', 'Black', 'Other races'], axis = 1)"
   ]
  },
  {
   "cell_type": "code",
   "execution_count": 22,
   "metadata": {
    "collapsed": true
   },
   "outputs": [],
   "source": [
    "# Filter on Chicago MSA and drop unneeded columns, rename columns\n",
    "chi_housing = housing_df[housing_df['MSA_CMSAA'] == chicago_msa_code].drop(housing_drop_cols, axis = 1)\n",
    "chi_housing.rename(columns = housing_col_dict, inplace = True)"
   ]
  },
  {
   "cell_type": "code",
   "execution_count": 23,
   "metadata": {
    "collapsed": true
   },
   "outputs": [],
   "source": [
    "# Calculate %s from total values\n",
    "# Does renter/owner need to be over occupied units not total units?\n",
    "chi_housing['% Occupied'] = chi_housing['Occupied']/chi_housing['Total Units']\n",
    "chi_housing['% Vacant'] = chi_housing['Vacant']/chi_housing['Total Units']\n",
    "chi_housing['% Owner Occupied'] = chi_housing['Owner occupied']/chi_housing['Occupied']\n",
    "chi_housing['% Renter'] = chi_housing['Renter occupied']/chi_housing['Occupied']\n",
    "chi_housing = chi_housing.drop(['Vacant', 'Owner occupied', 'Renter occupied'], axis = 1)"
   ]
  },
  {
   "cell_type": "code",
   "execution_count": 24,
   "metadata": {
    "collapsed": true
   },
   "outputs": [],
   "source": [
    "# Merge into one dataframe\n",
    "full_df = chi_race_df.merge(chi_housing.drop(['YEAR', 'BLOCKA', 'BLCK_GRPA', 'TRACTA', 'C_CITYA', 'COUNTY', 'MSA_CMSAA','STATE'], axis = 1), 'inner', left_index = True, right_index = True)"
   ]
  },
  {
   "cell_type": "code",
   "execution_count": 26,
   "metadata": {
    "collapsed": true
   },
   "outputs": [],
   "source": [
    "full_df.to_csv(\"1990_census_data.csv\", sep = \"|\")"
   ]
  },
  {
   "cell_type": "code",
   "execution_count": null,
   "metadata": {
    "collapsed": true
   },
   "outputs": [],
   "source": []
  }
 ],
 "metadata": {
  "kernelspec": {
   "display_name": "Python 3",
   "language": "python",
   "name": "python3"
  },
  "language_info": {
   "codemirror_mode": {
    "name": "ipython",
    "version": 3
   },
   "file_extension": ".py",
   "mimetype": "text/x-python",
   "name": "python",
   "nbconvert_exporter": "python",
   "pygments_lexer": "ipython3",
   "version": "3.6.3"
  }
 },
 "nbformat": 4,
 "nbformat_minor": 2
}
