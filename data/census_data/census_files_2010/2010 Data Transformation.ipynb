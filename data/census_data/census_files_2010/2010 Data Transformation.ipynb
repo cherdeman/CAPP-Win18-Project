{
 "cells": [
  {
   "cell_type": "code",
   "execution_count": 67,
   "metadata": {
    "collapsed": true
   },
   "outputs": [],
   "source": [
    "import pandas as pd\n",
    "import os"
   ]
  },
  {
   "cell_type": "code",
   "execution_count": 68,
   "metadata": {
    "collapsed": true
   },
   "outputs": [],
   "source": [
    "# NOTE: THIS PATH READS TO THE LOCATION OF THE LARGE FILE USB DRIVE ON A MAC,\n",
    "# MAY NEED TO BE REDIRECTED TO THE APPROPRIATE LOCATION ON THE USER'S MACHINE\n",
    "absolute_filepath = '/Volumes/Lexar/2010 data/'"
   ]
  },
  {
   "cell_type": "code",
   "execution_count": 69,
   "metadata": {
    "collapsed": true
   },
   "outputs": [],
   "source": [
    "# Context columns to drop from housing and median dfs\n",
    "drop_cols_housing = ['REGIONA','DIVISIONA','STATEA','COUNTYA','COUSUBA','PLACEA','RES_ONLYA',\n",
    "                     'TRUSTA','AIANHHA','AITSCEA','TTRACTA','TBLKGRPA','ANRCA','NECTAA',\n",
    "                     'NECTADIVA','CNECTAA','UAA','URBRURALA','CDA','SLDUA','SLDLA','ZCTA5A',\n",
    "                     'SUBMCDA','SDELMA','SDSECA','SDUNIA','SABINSA','METDIVA', 'CSAA', 'NAME',\n",
    "                     'IFC001','IFG001','IFG002','IFG003','IFG004','IFG005','IFG006','IFG007',\n",
    "                     'IFG008','IFH001','IFH002','IFH003','IFH004','IFH005','IFH006','IFH007',\n",
    "                     'IFH008']\n",
    "\n",
    "drop_cols_median = ['YEAR','REGIONA','DIVISIONA','STATE','STATEA','COUNTY','COUNTYA','COUSUBA',\n",
    "                    'PLACEA','TRACTA','BLKGRPA','CONCITA','AIANHHA','RES_ONLYA','TRUSTA','AITSCEA',\n",
    "                    'ANRCA','CBSAA','CSAA','METDIVA','NECTAA','CNECTAA','NECTADIVA','UAA',\n",
    "                    'CDCURRA','SLDUA','SLDLA','SUBMCDA','SDELMA','SDSECA','SDUNIA','PUMA5A',\n",
    "                    'BTTRA','BTBGA','NAME_M', 'NAME_E', 'JTIM001']"
   ]
  },
  {
   "cell_type": "code",
   "execution_count": 70,
   "metadata": {
    "collapsed": true
   },
   "outputs": [],
   "source": [
    "# Dictionary of column name mappings\n",
    "housing_col_mapper = {'H7X001':'Total Pop','H7X002':'White alone','H7X003':'Black or African American alone',\n",
    "                      'H7X004':'American Indian and Alaska Native alone', 'H7X005':'Asian alone',\n",
    "                      'H7X006':'Native Hawaiian and Other Pacific Islander alone', \n",
    "                      'H7X007':'Some Other Race alone','H7X008':'Two or More Races', \n",
    "                      'IFE001':'Total Units','IFE002':'Occupied','IFE003':'Vacant',\n",
    "                      'IFF001':'Total Occupied Units','IFF002':'Owned with a mortgage or a loan',\n",
    "                      'IFF003':'Owned free and clear','IFF004':'Renter occupied', \n",
    "                      'BLKGRPA': 'BLCK_GRPA', 'CONCITA':'C_CITYA'}\n",
    "\n",
    "median_col_mapper = {'JTIE001':'Median'}"
   ]
  },
  {
   "cell_type": "code",
   "execution_count": 71,
   "metadata": {
    "collapsed": true
   },
   "outputs": [],
   "source": [
    "# Chicago's CBSA code \n",
    "chicago_cbsa_code = 16980"
   ]
  },
  {
   "cell_type": "code",
   "execution_count": 72,
   "metadata": {},
   "outputs": [],
   "source": [
    "# Load housing data into df\n",
    "if os.path.exists(absolute_filepath + 'nhgis0012_ds172_2010_block.csv'):\n",
    "    housing_df = pd.read_csv(absolute_filepath + 'nhgis0012_ds172_2010_block.csv', \n",
    "                             low_memory=False).drop(drop_cols_housing, axis = 1)\n",
    "else:\n",
    "    raise IOError('This file does not exists in this location')"
   ]
  },
  {
   "cell_type": "code",
   "execution_count": 73,
   "metadata": {
    "collapsed": true
   },
   "outputs": [],
   "source": [
    "# Load median data into df\n",
    "if os.path.exists(absolute_filepath + 'nhgis0012_ds176_20105_2010_tract.csv'):\n",
    "    median_df = pd.read_csv(absolute_filepath + 'nhgis0012_ds176_20105_2010_tract.csv', \n",
    "                            encoding = \"ISO-8859-1\").drop(drop_cols_median, axis = 1)\n",
    "else:\n",
    "    raise IOError('This file does not exists in this location')"
   ]
  },
  {
   "cell_type": "code",
   "execution_count": 74,
   "metadata": {},
   "outputs": [],
   "source": [
    "# Subset on Chicago CBSA code\n",
    "chi_housing_df = housing_df[housing_df['CBSAA'] == chicago_cbsa_code].copy()\n",
    "chi_housing_df.rename(columns = housing_col_mapper, inplace = True)"
   ]
  },
  {
   "cell_type": "code",
   "execution_count": 75,
   "metadata": {
    "collapsed": true
   },
   "outputs": [],
   "source": [
    "# Rename columns in the median df\n",
    "median_df.rename(columns = median_col_mapper, inplace = True)"
   ]
  },
  {
   "cell_type": "code",
   "execution_count": 76,
   "metadata": {},
   "outputs": [],
   "source": [
    "# Shorten GISJOIN field to exclude block identifiers so that it can be used to match values\n",
    "gis_short = chi_housing_df['GISJOIN'].str[:14]\n",
    "chi_housing_df = chi_housing_df.assign(GIS_SHORT = gis_short)\n",
    "chi_housing_df.rename(columns = {'GISJOIN': 'GISJOIN_BLOCK'}, inplace = True)"
   ]
  },
  {
   "cell_type": "code",
   "execution_count": 77,
   "metadata": {
    "collapsed": true
   },
   "outputs": [],
   "source": [
    "# Merge median and raw dfs on shortened GISJOIN field\n",
    "full_df = chi_housing_df.merge(median_df,left_on = ['GIS_SHORT'], right_on = ['GISJOIN'])"
   ]
  },
  {
   "cell_type": "code",
   "execution_count": 78,
   "metadata": {
    "collapsed": true
   },
   "outputs": [],
   "source": [
    "# Combine race categories\n",
    "full_df['Other races'] = full_df[['American Indian and Alaska Native alone', 'Asian alone',\n",
    "       'Native Hawaiian and Other Pacific Islander alone',\n",
    "       'Some Other Race alone', 'Two or More Races']].sum(axis = 1)\n",
    "full_df = full_df.drop(['American Indian and Alaska Native alone', 'Asian alone',\n",
    "       'Native Hawaiian and Other Pacific Islander alone',\n",
    "       'Some Other Race alone', 'Two or More Races'], axis = 1)"
   ]
  },
  {
   "cell_type": "code",
   "execution_count": 79,
   "metadata": {
    "collapsed": true
   },
   "outputs": [],
   "source": [
    "# Calculate race percentages\n",
    "full_df['Pct_White'] = full_df['White alone']/full_df['Total Pop']\n",
    "full_df['Pct_Black'] = full_df['Black or African American alone']/full_df['Total Pop']\n",
    "full_df['Pct_Other'] = full_df['Other races']/full_df['Total Pop']\n",
    "full_df = full_df.drop(['White alone', 'Black or African American alone','Other races'], axis = 1)"
   ]
  },
  {
   "cell_type": "code",
   "execution_count": 80,
   "metadata": {
    "collapsed": true
   },
   "outputs": [],
   "source": [
    "# Calculate unit occupancy/vacancy percentages\n",
    "full_df['Owner occupied'] = full_df[['Owned with a mortgage or a loan',\n",
    "                                     'Owned free and clear']].sum(axis = 1)\n",
    "full_df['% Occupied'] = full_df['Total Occupied Units']/full_df['Total Units']\n",
    "full_df['% Vacant'] = full_df['Vacant']/full_df['Total Units']\n",
    "full_df['% Owner Occupied'] = full_df['Owner occupied']/full_df['Total Occupied Units']\n",
    "full_df['% Renter'] = full_df['Renter occupied']/full_df['Total Occupied Units']\n",
    "full_df = full_df.drop(['Occupied', 'Vacant', 'Owned with a mortgage or a loan',\n",
    "                        'Owned free and clear', 'Renter occupied'], axis = 1)"
   ]
  },
  {
   "cell_type": "code",
   "execution_count": 81,
   "metadata": {
    "collapsed": true
   },
   "outputs": [],
   "source": [
    "# Update index column name to match other years, set as index\n",
    "full_df.drop(['GISJOIN', 'GIS_SHORT'], axis = 1, inplace = True)\n",
    "full_df.rename(columns = {'GISJOIN_BLOCK': 'GISJOIN'}, inplace = True)\n",
    "full_df.set_index(keys = 'GISJOIN', inplace = True)"
   ]
  },
  {
   "cell_type": "code",
   "execution_count": 82,
   "metadata": {
    "collapsed": true
   },
   "outputs": [],
   "source": [
    "# Reorder columns to match other years\n",
    "reorder = ['YEAR', 'BLOCKA', 'BLCK_GRPA', 'TRACTA', 'C_CITYA', 'COUNTY',\n",
    "       'CBSAA', 'STATE', 'Total Pop', 'Pct_White', 'Pct_Black',\n",
    "       'Pct_Other', 'Total Units', 'Median', '% Occupied', '% Vacant',\n",
    "       '% Owner Occupied', '% Renter']\n",
    "\n",
    "full_df = full_df[reorder]"
   ]
  },
  {
   "cell_type": "code",
   "execution_count": 83,
   "metadata": {
    "collapsed": true
   },
   "outputs": [],
   "source": [
    "# Write df out to CSV\n",
    "full_df.to_csv(\"../2010_census_data.csv\", sep = \"|\")"
   ]
  },
  {
   "cell_type": "code",
   "execution_count": null,
   "metadata": {
    "collapsed": true
   },
   "outputs": [],
   "source": []
  }
 ],
 "metadata": {
  "kernelspec": {
   "display_name": "Python 3",
   "language": "python",
   "name": "python3"
  },
  "language_info": {
   "codemirror_mode": {
    "name": "ipython",
    "version": 3
   },
   "file_extension": ".py",
   "mimetype": "text/x-python",
   "name": "python",
   "nbconvert_exporter": "python",
   "pygments_lexer": "ipython3",
   "version": "3.6.3"
  }
 },
 "nbformat": 4,
 "nbformat_minor": 2
}
