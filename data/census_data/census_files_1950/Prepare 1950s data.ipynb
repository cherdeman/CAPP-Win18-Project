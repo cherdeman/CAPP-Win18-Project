{
 "cells": [
  {
   "cell_type": "markdown",
   "metadata": {},
   "source": [
    "A lot of the code across these notebooks is duplicated, however handling each bit of data varies. As a result, each is independent, although we could've made one function to read in files and one to parse them. This was most efficient, however, given the care each file needed code-interpretation-wise."
   ]
  },
  {
   "cell_type": "code",
   "execution_count": 2,
   "metadata": {
    "collapsed": true
   },
   "outputs": [],
   "source": [
    "import pandas as pd\n",
    "import numpy as np\n",
    "import csv \n",
    "import os \n",
    "import re"
   ]
  },
  {
   "cell_type": "code",
   "execution_count": 3,
   "metadata": {
    "collapsed": true
   },
   "outputs": [],
   "source": [
    "# hardcode files\n",
    "CODEFILE = './nhgis0007_ds82_1950_tract_codebook.txt'\n",
    "DATAFILE = './nhgis0007_ds82_1950_tract.csv'\n",
    "OUTPUTFILE = './1950s_fordb.csv'\n",
    "\n",
    "\n",
    "pd.set_option(\"display.max_rows\",101)\n",
    "pd.set_option(\"display.max_columns\",101)\n",
    "pd.set_option(\"display.max_seq_items\",500)"
   ]
  },
  {
   "cell_type": "code",
   "execution_count": 4,
   "metadata": {
    "collapsed": true
   },
   "outputs": [],
   "source": [
    "f = open(CODEFILE, 'r')\n",
    "\n",
    "# keep all lines that are not whitespace\n",
    "lines = [line for line in f.readlines() if not line is \"\"]"
   ]
  },
  {
   "cell_type": "code",
   "execution_count": 5,
   "metadata": {
    "collapsed": true
   },
   "outputs": [],
   "source": [
    "# regex to save lines that start with #.,  \"NHGIS code:\"\n",
    "tab = []\n",
    "code = []\n",
    "mini_code = {}\n",
    "\n",
    "for line in lines:\n",
    "    if re.match('[0-9]+', line):\n",
    "        temp = re.sub('[0-9]*\\. ', '', line)\n",
    "        temp = re.sub(' ', '_', temp)\n",
    "        tab.append(temp[:-1])\n",
    "    if re.match('NHGIS code:', line):\n",
    "        code.append(line[-4:-1])\n",
    "    if re.match('.*[0-9]{3}:', line):\n",
    "        preproc = re.sub(' ', '', line)\n",
    "        preproc = re.sub('\\n', '', preproc)\n",
    "        c, n = preproc.split(\":\")[0], \"_\".join(preproc.split(\":\")[1:])\n",
    "        threeletter = c[:3]\n",
    "        store = mini_code.get(threeletter, {})\n",
    "        store[c] = n\n",
    "        mini_code[threeletter] = store"
   ]
  },
  {
   "cell_type": "code",
   "execution_count": 6,
   "metadata": {
    "collapsed": true
   },
   "outputs": [],
   "source": [
    "# construct a dictionary of code to table\n",
    "code_dict = {}\n",
    "\n",
    "for i, c in enumerate(code):\n",
    "    code_dict[c] = tab[i]"
   ]
  },
  {
   "cell_type": "code",
   "execution_count": 7,
   "metadata": {
    "collapsed": true
   },
   "outputs": [],
   "source": [
    "# convert the pd cols from NHGIS names\n",
    "data = pd.read_csv(DATAFILE)\n",
    "\n",
    "# only keep IL\n",
    "working_df = data[(data.STATE == 'Illinois') & (data.COUNTY == 'Cook')]"
   ]
  },
  {
   "cell_type": "code",
   "execution_count": 8,
   "metadata": {
    "collapsed": true
   },
   "outputs": [],
   "source": [
    "# get new column namess\n",
    "new_cols = []\n",
    "for colname in working_df.columns:\n",
    "    if colname[:3] in code_dict.keys():\n",
    "        sub_cat_dict = mini_code.get(colname[:3], {}) \n",
    "        subcat = sub_cat_dict[colname]\n",
    "        keep = code_dict[colname[:3]]+\"_\"+ subcat\n",
    "    else: \n",
    "        keep = colname\n",
    "    new_cols.append(keep)"
   ]
  },
  {
   "cell_type": "code",
   "execution_count": 12,
   "metadata": {},
   "outputs": [
    {
     "data": {
      "text/plain": [
       "Index(['GISJOIN', 'YEAR', 'STATE', 'STATEA', 'COUNTY', 'COUNTYA', 'PRETRACTA',\n",
       "       'TRACTA', 'POSTTRCTA', 'AREANAME', 'Population_by_Race_White',\n",
       "       'Population_by_Race_Negro', 'Population_by_Race_Othernon-white',\n",
       "       'Total_Number_of_Households_Total',\n",
       "       'Persons_per_Occupied_Household_Personsperoccupiedhousehold',\n",
       "       'Years_of_School_Completed_by_Persons_25_Years_and_Over_Noschoolcompleted',\n",
       "       'Years_of_School_Completed_by_Persons_25_Years_and_Over_Elementary1-4',\n",
       "       'Years_of_School_Completed_by_Persons_25_Years_and_Over_Elementary5-6',\n",
       "       'Years_of_School_Completed_by_Persons_25_Years_and_Over_Elementary7',\n",
       "       'Years_of_School_Completed_by_Persons_25_Years_and_Over_Elementary8',\n",
       "       'Years_of_School_Completed_by_Persons_25_Years_and_Over_Highschool1-3',\n",
       "       'Years_of_School_Completed_by_Persons_25_Years_and_Over_Highschool4',\n",
       "       'Years_of_School_Completed_by_Persons_25_Years_and_Over_College1-3',\n",
       "       'Years_of_School_Completed_by_Persons_25_Years_and_Over_College4ormore',\n",
       "       'Years_of_School_Completed_by_Persons_25_Years_and_Over_Notreported',\n",
       "       'Median_Years_of_School_Completed_by_Persons_25_Years_and_Over_Medianyearsofschoolcompleted',\n",
       "       'Families_and_Unrelated_Individuals_by_Income_Lessthan$500',\n",
       "       'Families_and_Unrelated_Individuals_by_Income_$500-$999',\n",
       "       'Families_and_Unrelated_Individuals_by_Income_$1000-$1499',\n",
       "       'Families_and_Unrelated_Individuals_by_Income_$1500-$1999',\n",
       "       'Families_and_Unrelated_Individuals_by_Income_$2000-$2499',\n",
       "       'Families_and_Unrelated_Individuals_by_Income_$2500-$2999',\n",
       "       'Families_and_Unrelated_Individuals_by_Income_$3000-$3499',\n",
       "       'Families_and_Unrelated_Individuals_by_Income_$3500-$3999',\n",
       "       'Families_and_Unrelated_Individuals_by_Income_$4000-$4499',\n",
       "       'Families_and_Unrelated_Individuals_by_Income_$4500-$4999',\n",
       "       'Families_and_Unrelated_Individuals_by_Income_$5000-$5999',\n",
       "       'Families_and_Unrelated_Individuals_by_Income_$6000-$6999',\n",
       "       'Families_and_Unrelated_Individuals_by_Income_$7000-$9999',\n",
       "       'Families_and_Unrelated_Individuals_by_Income_$10000ormore',\n",
       "       'Families_and_Unrelated_Individuals_by_Income_Incomenotreported',\n",
       "       'Median_Income_Medianincome', 'Total_Dwelling_Units_Total',\n",
       "       'Dwelling_Units_by_Occupancy_Type_Occupied_Owneroccupied',\n",
       "       'Dwelling_Units_by_Occupancy_Type_Occupied_Renteroccupied',\n",
       "       'Dwelling_Units_by_Occupancy_Type_Vacant_Vacantnonseasonal,etc',\n",
       "       'Dwelling_Units_by_Occupancy_Type_Vacant_Othervacant',\n",
       "       'Dwelling_Units_with_Non-White_Occupants_by_Tenure_Owner',\n",
       "       'Dwelling_Units_with_Non-White_Occupants_by_Tenure_Renter',\n",
       "       'Total_Occupied_Dwelling_Units_Total',\n",
       "       'Dwelling_Units_Reporting_Monthly_Contract_Rent_Total',\n",
       "       'Median_Contract_Rent_Mediancontractrent',\n",
       "       'Value_of_Home_Lessthan$3000', 'Value_of_Home_$3000-$3999',\n",
       "       'Value_of_Home_$4000-$4999', 'Value_of_Home_$5000-$7499',\n",
       "       'Value_of_Home_$7500-$9999', 'Value_of_Home_$10000-$14999',\n",
       "       'Value_of_Home_$15000+', 'Median_Value_Medianvalue'],\n",
       "      dtype='object')"
      ]
     },
     "execution_count": 12,
     "metadata": {},
     "output_type": "execute_result"
    }
   ],
   "source": [
    "# rename and view columns\n",
    "working_df.columns = new_cols\n",
    "working_df.columns"
   ]
  },
  {
   "cell_type": "code",
   "execution_count": 15,
   "metadata": {},
   "outputs": [
    {
     "data": {
      "text/html": [
       "<div>\n",
       "<style>\n",
       "    .dataframe thead tr:only-child th {\n",
       "        text-align: right;\n",
       "    }\n",
       "\n",
       "    .dataframe thead th {\n",
       "        text-align: left;\n",
       "    }\n",
       "\n",
       "    .dataframe tbody tr th {\n",
       "        vertical-align: top;\n",
       "    }\n",
       "</style>\n",
       "<table border=\"1\" class=\"dataframe\">\n",
       "  <thead>\n",
       "    <tr style=\"text-align: right;\">\n",
       "      <th></th>\n",
       "      <th>GISJOIN</th>\n",
       "      <th>YEAR</th>\n",
       "      <th>TRACTA</th>\n",
       "      <th>COUNTY</th>\n",
       "      <th>STATE</th>\n",
       "      <th>Totalpop</th>\n",
       "      <th>Pwhite</th>\n",
       "      <th>Pblack</th>\n",
       "      <th>Pnonwhite</th>\n",
       "      <th>Totalunits</th>\n",
       "      <th>Medianhomeval</th>\n",
       "      <th>Poccupied</th>\n",
       "      <th>Pvacant</th>\n",
       "      <th>Powner</th>\n",
       "      <th>Prented</th>\n",
       "    </tr>\n",
       "  </thead>\n",
       "  <tbody>\n",
       "    <tr>\n",
       "      <th>1849</th>\n",
       "      <td>G17003100001</td>\n",
       "      <td>1950</td>\n",
       "      <td>1</td>\n",
       "      <td>Cook</td>\n",
       "      <td>Illinois</td>\n",
       "      <td>4775.0</td>\n",
       "      <td>0.998325</td>\n",
       "      <td>0.001257</td>\n",
       "      <td>0.000419</td>\n",
       "      <td>1631.0</td>\n",
       "      <td>13539</td>\n",
       "      <td>0.992643</td>\n",
       "      <td>0.007357</td>\n",
       "      <td>0.137122</td>\n",
       "      <td>0.862878</td>\n",
       "    </tr>\n",
       "    <tr>\n",
       "      <th>1850</th>\n",
       "      <td>G17003100002</td>\n",
       "      <td>1950</td>\n",
       "      <td>2</td>\n",
       "      <td>Cook</td>\n",
       "      <td>Illinois</td>\n",
       "      <td>1578.0</td>\n",
       "      <td>1.000000</td>\n",
       "      <td>0.000000</td>\n",
       "      <td>0.000000</td>\n",
       "      <td>485.0</td>\n",
       "      <td>NaN</td>\n",
       "      <td>0.991753</td>\n",
       "      <td>0.008247</td>\n",
       "      <td>0.249480</td>\n",
       "      <td>0.750520</td>\n",
       "    </tr>\n",
       "    <tr>\n",
       "      <th>1851</th>\n",
       "      <td>G17003100003</td>\n",
       "      <td>1950</td>\n",
       "      <td>3</td>\n",
       "      <td>Cook</td>\n",
       "      <td>Illinois</td>\n",
       "      <td>7147.0</td>\n",
       "      <td>0.998041</td>\n",
       "      <td>0.001679</td>\n",
       "      <td>0.000280</td>\n",
       "      <td>2536.0</td>\n",
       "      <td>17316</td>\n",
       "      <td>0.989748</td>\n",
       "      <td>0.010252</td>\n",
       "      <td>0.139044</td>\n",
       "      <td>0.860956</td>\n",
       "    </tr>\n",
       "    <tr>\n",
       "      <th>1852</th>\n",
       "      <td>G17003100004</td>\n",
       "      <td>1950</td>\n",
       "      <td>4</td>\n",
       "      <td>Cook</td>\n",
       "      <td>Illinois</td>\n",
       "      <td>9050.0</td>\n",
       "      <td>0.995359</td>\n",
       "      <td>0.002541</td>\n",
       "      <td>0.002099</td>\n",
       "      <td>3088.0</td>\n",
       "      <td>13647</td>\n",
       "      <td>0.990609</td>\n",
       "      <td>0.009391</td>\n",
       "      <td>0.161818</td>\n",
       "      <td>0.838182</td>\n",
       "    </tr>\n",
       "    <tr>\n",
       "      <th>1853</th>\n",
       "      <td>G17003100005</td>\n",
       "      <td>1950</td>\n",
       "      <td>5</td>\n",
       "      <td>Cook</td>\n",
       "      <td>Illinois</td>\n",
       "      <td>17082.0</td>\n",
       "      <td>0.997600</td>\n",
       "      <td>0.001639</td>\n",
       "      <td>0.000761</td>\n",
       "      <td>6273.0</td>\n",
       "      <td>NaN</td>\n",
       "      <td>0.973059</td>\n",
       "      <td>0.026941</td>\n",
       "      <td>0.091579</td>\n",
       "      <td>0.908421</td>\n",
       "    </tr>\n",
       "  </tbody>\n",
       "</table>\n",
       "</div>"
      ],
      "text/plain": [
       "           GISJOIN  YEAR  TRACTA COUNTY     STATE  Totalpop    Pwhite  \\\n",
       "1849  G17003100001  1950       1   Cook  Illinois    4775.0  0.998325   \n",
       "1850  G17003100002  1950       2   Cook  Illinois    1578.0  1.000000   \n",
       "1851  G17003100003  1950       3   Cook  Illinois    7147.0  0.998041   \n",
       "1852  G17003100004  1950       4   Cook  Illinois    9050.0  0.995359   \n",
       "1853  G17003100005  1950       5   Cook  Illinois   17082.0  0.997600   \n",
       "\n",
       "        Pblack  Pnonwhite  Totalunits Medianhomeval  Poccupied   Pvacant  \\\n",
       "1849  0.001257   0.000419      1631.0         13539   0.992643  0.007357   \n",
       "1850  0.000000   0.000000       485.0           NaN   0.991753  0.008247   \n",
       "1851  0.001679   0.000280      2536.0         17316   0.989748  0.010252   \n",
       "1852  0.002541   0.002099      3088.0         13647   0.990609  0.009391   \n",
       "1853  0.001639   0.000761      6273.0           NaN   0.973059  0.026941   \n",
       "\n",
       "        Powner   Prented  \n",
       "1849  0.137122  0.862878  \n",
       "1850  0.249480  0.750520  \n",
       "1851  0.139044  0.860956  \n",
       "1852  0.161818  0.838182  \n",
       "1853  0.091579  0.908421  "
      ]
     },
     "execution_count": 15,
     "metadata": {},
     "output_type": "execute_result"
    }
   ],
   "source": [
    "### store and calculate final entries\n",
    "\n",
    "final_df = working_df[['GISJOIN', 'YEAR', 'TRACTA', 'COUNTY', 'STATE']]\n",
    "\n",
    "# race\n",
    "final_df = final_df.assign(Totalpop = working_df['Population_by_Race_White'] + \n",
    "                          working_df['Population_by_Race_Negro'] + working_df['Population_by_Race_Othernon-white'])\n",
    "final_df = final_df.assign(Pwhite = working_df['Population_by_Race_White']/final_df.Totalpop)\n",
    "final_df = final_df.assign(Pblack = working_df['Population_by_Race_Negro']/final_df.Totalpop)\n",
    "final_df = final_df.assign(Pnonwhite = working_df['Population_by_Race_Othernon-white']/final_df.Totalpop)\n",
    "\n",
    "# units\n",
    "final_df = final_df.assign(Totalunits = working_df['Total_Dwelling_Units_Total'])\n",
    "\n",
    "value = np.where(working_df['Median_Value_Medianvalue'] == 0, 'NaN', \n",
    "                working_df['Median_Value_Medianvalue'])\n",
    "final_df = final_df.assign(Medianhomeval = value)\n",
    "final_df = final_df.assign(Poccupied = working_df['Total_Occupied_Dwelling_Units_Total'\n",
    "                                                 ]/final_df.Totalunits)\n",
    "final_df = final_df.assign(Pvacant = 1 - final_df.Poccupied)\n",
    "\n",
    "Allowner = working_df['Dwelling_Units_by_Occupancy_Type_Occupied_Owneroccupied']\n",
    "final_df = final_df.assign(Powner = Allowner / working_df['Total_Occupied_Dwelling_Units_Total']) #check not just of non-vacant\n",
    "\n",
    "Allrenter = working_df['Dwelling_Units_by_Occupancy_Type_Occupied_Renteroccupied']\n",
    "final_df = final_df.assign(Prented = Allrenter / working_df['Total_Occupied_Dwelling_Units_Total'])\n",
    "\n",
    "final_df.head()"
   ]
  },
  {
   "cell_type": "code",
   "execution_count": 18,
   "metadata": {
    "collapsed": true
   },
   "outputs": [],
   "source": [
    "# rename and export\n",
    "\n",
    "column_names = ['GISJOIN','YEAR', 'TRACTA', 'COUNTY','STATE', 'Total Pop', '% White', \n",
    "               '% Black', '% Other races', 'Total Units', 'Median', '% Occupied', \n",
    "               '% Vacant', '% Owner Occupied', '% Renter']\n",
    "\n",
    "final_df.to_csv(path_or_buf=OUTPUTFILE, index=False, header=column_names)"
   ]
  }
 ],
 "metadata": {
  "kernelspec": {
   "display_name": "Python 3",
   "language": "python",
   "name": "python3"
  },
  "language_info": {
   "codemirror_mode": {
    "name": "ipython",
    "version": 3
   },
   "file_extension": ".py",
   "mimetype": "text/x-python",
   "name": "python",
   "nbconvert_exporter": "python",
   "pygments_lexer": "ipython3",
   "version": "3.6.3"
  }
 },
 "nbformat": 4,
 "nbformat_minor": 2
}
