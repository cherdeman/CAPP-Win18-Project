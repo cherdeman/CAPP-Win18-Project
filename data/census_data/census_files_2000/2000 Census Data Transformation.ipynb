{
 "cells": [
  {
   "cell_type": "code",
   "execution_count": 67,
   "metadata": {
    "collapsed": true
   },
   "outputs": [],
   "source": [
    "import pandas as pd\n",
    "import os"
   ]
  },
  {
   "cell_type": "code",
   "execution_count": 68,
   "metadata": {
    "collapsed": true
   },
   "outputs": [],
   "source": [
    "absolute_filepath = '/Users/claire/Documents/CS 122 Project Files/2000 data/'"
   ]
  },
  {
   "cell_type": "code",
   "execution_count": 69,
   "metadata": {
    "collapsed": true
   },
   "outputs": [],
   "source": [
    "# Context columns to drop\n",
    "drop_cols = ['AIANHHA', 'STATEA', 'COUNTYA', 'PLACEA', 'FWB001', 'FWC001','FWC002','FWC003','FWC004',\n",
    "             'FWC005','FWC006','FWD001','FWD002','FWD003','FWD004','FWD005','FWD006','FWD007','FWK001']"
   ]
  },
  {
   "cell_type": "code",
   "execution_count": 70,
   "metadata": {
    "collapsed": true
   },
   "outputs": [],
   "source": [
    "# Context columns to drop from the median df \n",
    "median_drop_cols = ['URB_AREAA','URBRURALA','CD106A','CD108A','CD109A','ZIP3A','ZCTAA','TRACTA','TRBL_CTA','TRBL_BGA',\n",
    "                    'BLCK_GRPA','TRUSTA','RES_ONLYA','AIANHHA','TRBL_SUBA','ANRCA', 'PLACEA', 'DIVISIONA', \n",
    "                    'REGIONA', 'PMSAA', 'NECMAA', 'NAME', 'STATEA', 'COUNTYA', 'CTY_SUBA']"
   ]
  },
  {
   "cell_type": "code",
   "execution_count": 71,
   "metadata": {
    "collapsed": true
   },
   "outputs": [],
   "source": [
    "raw_drop_cols = ['YEAR', 'STATE', 'COUNTY', 'CTY_SUBA', 'NAME']"
   ]
  },
  {
   "cell_type": "code",
   "execution_count": 72,
   "metadata": {
    "collapsed": true
   },
   "outputs": [],
   "source": [
    "column_mapper = {'FYE001':'White alone','FYE002':'Black or African American alone',\n",
    "                 'FYE003':'American Indian and Alaska Native alone','FYE004':'Asian alone',\n",
    "                 'FYE005':'Native Hawaiian and Other Pacific Islander alone','FYE006':'Some other race alone',\n",
    "                 'FYE007':'Two or more races', 'FV5001':'Total Units', 'FV8001':'Occupied',\n",
    "                 'FV8002':'Vacant','FV9001':'Total Occupied Units', 'FWA001':'Owner occupied',\n",
    "                 'FWA002':'Renter occupied'}\n",
    "\n",
    "median_col_mapper = {'GB7001':'Median'}"
   ]
  },
  {
   "cell_type": "code",
   "execution_count": 73,
   "metadata": {
    "collapsed": true
   },
   "outputs": [],
   "source": [
    "chicago_msa_code = 1602"
   ]
  },
  {
   "cell_type": "code",
   "execution_count": 74,
   "metadata": {
    "collapsed": true
   },
   "outputs": [],
   "source": [
    "# Load data into df\n",
    "if os.path.exists(absolute_filepath + 'nhgis0006_ds147_2000_block.csv'):\n",
    "    raw_df = pd.read_csv(absolute_filepath + 'nhgis0006_ds147_2000_block.csv').drop(drop_cols, axis = 1)\n",
    "else:\n",
    "    raise IOError('This file does not exists in this location')"
   ]
  },
  {
   "cell_type": "code",
   "execution_count": 75,
   "metadata": {},
   "outputs": [
    {
     "name": "stderr",
     "output_type": "stream",
     "text": [
      "/Users/claire/anaconda3/lib/python3.6/site-packages/IPython/core/interactiveshell.py:2698: DtypeWarning: Columns (21) have mixed types. Specify dtype option on import or set low_memory=False.\n",
      "  interactivity=interactivity, compiler=compiler, result=result)\n"
     ]
    }
   ],
   "source": [
    "# Load data into df\n",
    "if os.path.exists(absolute_filepath + 'nhgis0007_ds151_2000_tract.csv'):\n",
    "    median_df = pd.read_csv(absolute_filepath + 'nhgis0007_ds151_2000_tract.csv').drop(median_drop_cols, axis = 1)\n",
    "else:\n",
    "    raise IOError('This file does not exists in this location')"
   ]
  },
  {
   "cell_type": "code",
   "execution_count": 76,
   "metadata": {},
   "outputs": [
    {
     "name": "stderr",
     "output_type": "stream",
     "text": [
      "/Users/claire/anaconda3/lib/python3.6/site-packages/pandas/core/frame.py:2746: SettingWithCopyWarning: \n",
      "A value is trying to be set on a copy of a slice from a DataFrame\n",
      "\n",
      "See the caveats in the documentation: http://pandas.pydata.org/pandas-docs/stable/indexing.html#indexing-view-versus-copy\n",
      "  **kwargs)\n"
     ]
    }
   ],
   "source": [
    "# Change MSA to numeric value to subset on Chicago code\n",
    "median_df['MSA_CMSAA'] = pd.to_numeric(median_df['MSA_CMSAA'],errors = 'coerce')\n",
    "chi_median_df = median_df[median_df['MSA_CMSAA'] == chicago_msa_code]\n",
    "chi_median_df.rename(columns = median_col_mapper, inplace = True)"
   ]
  },
  {
   "cell_type": "code",
   "execution_count": 77,
   "metadata": {
    "collapsed": true
   },
   "outputs": [],
   "source": [
    "# Rename columns using mapper\n",
    "raw_df.rename(columns = column_mapper, inplace = True)"
   ]
  },
  {
   "cell_type": "code",
   "execution_count": 78,
   "metadata": {
    "collapsed": true
   },
   "outputs": [],
   "source": [
    "# Shorten GISJOIN field to exclude block identifiers so that it can be used to match values\n",
    "raw_df['GIS_SHORT'] = raw_df['GISJOIN'].str[:14]\n",
    "raw_df.rename(columns = {'GISJOIN': 'GISJOIN_BLOCK'}, inplace = True)"
   ]
  },
  {
   "cell_type": "code",
   "execution_count": 79,
   "metadata": {
    "collapsed": true
   },
   "outputs": [],
   "source": [
    "# Merge median and raw dfs on shortened GISJOIN field\n",
    "full_df = chi_median_df.merge(raw_df.drop(raw_drop_cols, axis = 1), left_on = ['GISJOIN'], right_on = ['GIS_SHORT'])"
   ]
  },
  {
   "cell_type": "code",
   "execution_count": 80,
   "metadata": {},
   "outputs": [
    {
     "data": {
      "text/plain": [
       "Index(['GISJOIN', 'YEAR', 'STATE', 'COUNTY', 'C_CITYA', 'MSA_CMSAA', 'Median',\n",
       "       'GISJOIN_BLOCK', 'TRACTA', 'BLCK_GRPA', 'BLOCKA', 'White alone',\n",
       "       'Black or African American alone',\n",
       "       'American Indian and Alaska Native alone', 'Asian alone',\n",
       "       'Native Hawaiian and Other Pacific Islander alone',\n",
       "       'Some other race alone', 'Two or more races', 'Total Units', 'Occupied',\n",
       "       'Vacant', 'Total Occupied Units', 'Owner occupied', 'Renter occupied',\n",
       "       'GIS_SHORT'],\n",
       "      dtype='object')"
      ]
     },
     "execution_count": 80,
     "metadata": {},
     "output_type": "execute_result"
    }
   ],
   "source": [
    "full_df.columns"
   ]
  },
  {
   "cell_type": "code",
   "execution_count": 81,
   "metadata": {
    "collapsed": true
   },
   "outputs": [],
   "source": [
    "# Combine race categories\n",
    "full_df['Other races'] = full_df[['American Indian and Alaska Native alone', 'Asian alone',\n",
    "       'Native Hawaiian and Other Pacific Islander alone',\n",
    "       'Some other race alone', 'Two or more races']].sum(axis = 1)\n",
    "full_df['Total Pop'] = full_df[['White alone', 'Black or African American alone', 'Other races']].sum(axis = 1)\n",
    "full_df = full_df.drop(['American Indian and Alaska Native alone', 'Asian alone',\n",
    "       'Native Hawaiian and Other Pacific Islander alone',\n",
    "       'Some other race alone', 'Two or more races'], axis = 1)"
   ]
  },
  {
   "cell_type": "code",
   "execution_count": 82,
   "metadata": {
    "collapsed": true
   },
   "outputs": [],
   "source": [
    "# Calculate race percentages\n",
    "full_df['% White'] = full_df['White alone']/full_df['Total Pop']\n",
    "full_df['% Black'] = full_df['Black or African American alone']/full_df['Total Pop']\n",
    "full_df['% Other races'] = full_df['Other races']/full_df['Total Pop']\n",
    "full_df = full_df.drop(['White alone', 'Black or African American alone','Other races'], axis = 1)"
   ]
  },
  {
   "cell_type": "code",
   "execution_count": 83,
   "metadata": {
    "collapsed": true
   },
   "outputs": [],
   "source": [
    "# Calculate unit occupancy/vacancy percentages\n",
    "full_df['% Occupied'] = full_df['Total Occupied Units']/full_df['Total Units']\n",
    "full_df['% Vacant'] = full_df['Vacant']/full_df['Total Units']\n",
    "full_df['% Owner Occupied'] = full_df['Owner occupied']/full_df['Total Occupied Units']\n",
    "full_df['% Renter'] = full_df['Renter occupied']/full_df['Total Occupied Units']\n",
    "full_df = full_df.drop(['Occupied', 'Vacant', 'Owner occupied', 'Renter occupied'], axis = 1)"
   ]
  },
  {
   "cell_type": "code",
   "execution_count": 84,
   "metadata": {
    "collapsed": true
   },
   "outputs": [],
   "source": [
    "# Reorder columns to match other years\n",
    "reorder = ['GISJOIN_BLOCK','YEAR', 'BLOCKA', 'BLCK_GRPA', 'TRACTA', 'C_CITYA', 'COUNTY',\n",
    "       'MSA_CMSAA', 'STATE', 'Total Pop', '% White', '% Black',\n",
    "       '% Other races', 'Total Units', 'Median', '% Occupied', '% Vacant',\n",
    "       '% Owner Occupied', '% Renter']\n",
    "\n",
    "full_df = full_df[reorder]"
   ]
  },
  {
   "cell_type": "code",
   "execution_count": 86,
   "metadata": {},
   "outputs": [],
   "source": [
    "# Update index column name to match other years, set as index\n",
    "full_df.rename(columns = {'GISJOIN_BLOCK': 'GISJOIN'}, inplace = True)\n",
    "full_df.set_index(keys = 'GISJOIN', inplace = True)"
   ]
  },
  {
   "cell_type": "code",
   "execution_count": 87,
   "metadata": {
    "collapsed": true
   },
   "outputs": [],
   "source": [
    "# Write out df to CSV\n",
    "full_df.to_csv(\"2000_census_data.csv\", sep = \"|\")"
   ]
  },
  {
   "cell_type": "code",
   "execution_count": null,
   "metadata": {
    "collapsed": true
   },
   "outputs": [],
   "source": []
  }
 ],
 "metadata": {
  "kernelspec": {
   "display_name": "Python 3",
   "language": "python",
   "name": "python3"
  },
  "language_info": {
   "codemirror_mode": {
    "name": "ipython",
    "version": 3
   },
   "file_extension": ".py",
   "mimetype": "text/x-python",
   "name": "python",
   "nbconvert_exporter": "python",
   "pygments_lexer": "ipython3",
   "version": "3.6.3"
  }
 },
 "nbformat": 4,
 "nbformat_minor": 2
}
