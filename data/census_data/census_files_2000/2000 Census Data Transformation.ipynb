{
 "cells": [
  {
   "cell_type": "code",
   "execution_count": 129,
   "metadata": {
    "collapsed": true
   },
   "outputs": [],
   "source": [
    "import pandas as pd\n",
    "import os"
   ]
  },
  {
   "cell_type": "code",
   "execution_count": 130,
   "metadata": {
    "collapsed": true
   },
   "outputs": [],
   "source": [
    "# NOTE: THIS PATH READS TO THE LOCATION OF THE LARGE FILE USB DRIVE ON A MAC,\n",
    "# MAY NEED TO BE REDIRECTED TO THE APPROPRIATE LOCATION ON THE USER'S MACHINE\n",
    "absolute_filepath = '/Volumes/Lexar/2000 data/'"
   ]
  },
  {
   "cell_type": "code",
   "execution_count": 131,
   "metadata": {
    "collapsed": true
   },
   "outputs": [],
   "source": [
    "# Context columns to drop from raw_df\n",
    "raw_drop_cols = ['AIANHHA', 'STATEA', 'COUNTYA', 'PLACEA', 'FWB001', 'FWC001','FWC002',\n",
    "                 'FWC003','FWC004','FWC005','FWC006','FWD001','FWD002','FWD003','FWD004',\n",
    "                 'FWD005','FWD006','FWD007','FWK001']"
   ]
  },
  {
   "cell_type": "code",
   "execution_count": 132,
   "metadata": {
    "collapsed": true
   },
   "outputs": [],
   "source": [
    "# Context columns to drop from the median df \n",
    "median_drop_cols = ['URB_AREAA','URBRURALA','CD106A','CD108A','CD109A','ZIP3A','ZCTAA',\n",
    "                    'TRACTA','TRBL_CTA','TRBL_BGA','BLCK_GRPA','TRUSTA','RES_ONLYA',\n",
    "                    'AIANHHA','TRBL_SUBA','ANRCA', 'PLACEA', 'DIVISIONA','REGIONA', \n",
    "                    'PMSAA', 'NECMAA', 'NAME', 'STATEA', 'COUNTYA', 'CTY_SUBA']"
   ]
  },
  {
   "cell_type": "code",
   "execution_count": 133,
   "metadata": {
    "collapsed": true
   },
   "outputs": [],
   "source": [
    "# Context columns to drop from the the merged df\n",
    "merge_drop_cols = ['YEAR', 'STATE', 'COUNTY', 'CTY_SUBA', 'NAME']"
   ]
  },
  {
   "cell_type": "code",
   "execution_count": 134,
   "metadata": {
    "collapsed": true
   },
   "outputs": [],
   "source": [
    "# Dictionary of column name mappings\n",
    "column_mapper = {'FYE001':'White alone','FYE002':'Black or African American alone',\n",
    "                 'FYE003':'American Indian and Alaska Native alone','FYE004':'Asian alone',\n",
    "                 'FYE005':'Native Hawaiian and Other Pacific Islander alone',\n",
    "                 'FYE006':'Some other race alone','FYE007':'Two or more races', \n",
    "                 'FV5001':'Total Units', 'FV8001':'Occupied', 'FV8002':'Vacant',\n",
    "                 'FV9001':'Total Occupied Units', 'FWA001':'Owner occupied',\n",
    "                 'FWA002':'Renter occupied'}\n",
    "\n",
    "median_col_mapper = {'GB7001':'Median'}"
   ]
  },
  {
   "cell_type": "code",
   "execution_count": 135,
   "metadata": {
    "collapsed": true
   },
   "outputs": [],
   "source": [
    "#Chicago's MSA code\n",
    "chicago_msa_code = 1602"
   ]
  },
  {
   "cell_type": "code",
   "execution_count": 136,
   "metadata": {
    "collapsed": true
   },
   "outputs": [],
   "source": [
    "# Load data into df\n",
    "if os.path.exists(absolute_filepath + 'nhgis0006_ds147_2000_block.csv'):\n",
    "    raw_df = pd.read_csv(absolute_filepath + 'nhgis0006_ds147_2000_block.csv').drop(raw_drop_cols, axis = 1)\n",
    "else:\n",
    "    raise IOError('This file does not exists in this location')"
   ]
  },
  {
   "cell_type": "code",
   "execution_count": 137,
   "metadata": {},
   "outputs": [],
   "source": [
    "# Load data into df\n",
    "if os.path.exists(absolute_filepath + 'nhgis0007_ds151_2000_tract.csv'):\n",
    "    median_df = pd.read_csv(absolute_filepath + 'nhgis0007_ds151_2000_tract.csv', \n",
    "                            low_memory=False).drop(median_drop_cols, axis = 1)\n",
    "else:\n",
    "    raise IOError('This file does not exists in this location')"
   ]
  },
  {
   "cell_type": "code",
   "execution_count": 138,
   "metadata": {},
   "outputs": [],
   "source": [
    "# Change MSA to numeric value to subset on Chicago code\n",
    "median_df['MSA_CMSAA'] = pd.to_numeric(median_df['MSA_CMSAA'], errors = 'coerce')\n",
    "chicago_median_df = median_df[median_df['MSA_CMSAA'] == chicago_msa_code]\n",
    "chi_median_df.rename(columns = median_col_mapper, inplace = True)"
   ]
  },
  {
   "cell_type": "code",
   "execution_count": 139,
   "metadata": {
    "collapsed": true
   },
   "outputs": [],
   "source": [
    "# Rename columns using mapper\n",
    "raw_df.rename(columns = column_mapper, inplace = True)"
   ]
  },
  {
   "cell_type": "code",
   "execution_count": 140,
   "metadata": {
    "collapsed": true
   },
   "outputs": [],
   "source": [
    "# Shorten GISJOIN field to exclude block identifiers so that it can be used to match values\n",
    "raw_df['GIS_SHORT'] = raw_df['GISJOIN'].str[:14]\n",
    "raw_df.rename(columns = {'GISJOIN': 'GISJOIN_BLOCK'}, inplace = True)"
   ]
  },
  {
   "cell_type": "code",
   "execution_count": 141,
   "metadata": {
    "collapsed": true
   },
   "outputs": [],
   "source": [
    "# Merge median and raw dfs on shortened GISJOIN field\n",
    "full_df = chi_median_df.merge(raw_df.drop(merge_drop_cols, axis = 1), left_on = ['GISJOIN'], right_on = ['GIS_SHORT'])"
   ]
  },
  {
   "cell_type": "code",
   "execution_count": 142,
   "metadata": {
    "collapsed": true
   },
   "outputs": [],
   "source": [
    "# Combine race categories\n",
    "full_df['Other races'] = full_df[['American Indian and Alaska Native alone', 'Asian alone',\n",
    "       'Native Hawaiian and Other Pacific Islander alone',\n",
    "       'Some other race alone', 'Two or more races']].sum(axis = 1)\n",
    "full_df['Total Pop'] = full_df[['White alone', 'Black or African American alone', \n",
    "                                'Other races']].sum(axis = 1)\n",
    "full_df = full_df.drop(['American Indian and Alaska Native alone', 'Asian alone',\n",
    "       'Native Hawaiian and Other Pacific Islander alone',\n",
    "       'Some other race alone', 'Two or more races'], axis = 1)"
   ]
  },
  {
   "cell_type": "code",
   "execution_count": 143,
   "metadata": {
    "collapsed": true
   },
   "outputs": [],
   "source": [
    "# Calculate race percentages\n",
    "full_df['Pct_White'] = full_df['White alone']/full_df['Total Pop']\n",
    "full_df['Pct_Black'] = full_df['Black or African American alone']/full_df['Total Pop']\n",
    "full_df['Pct_Other'] = full_df['Other races']/full_df['Total Pop']\n",
    "full_df = full_df.drop(['White alone', 'Black or African American alone','Other races'], axis = 1)"
   ]
  },
  {
   "cell_type": "code",
   "execution_count": 144,
   "metadata": {
    "collapsed": true
   },
   "outputs": [],
   "source": [
    "# Calculate unit occupancy/vacancy percentages\n",
    "full_df['% Occupied'] = full_df['Total Occupied Units']/full_df['Total Units']\n",
    "full_df['% Vacant'] = full_df['Vacant']/full_df['Total Units']\n",
    "full_df['% Owner Occupied'] = full_df['Owner occupied']/full_df['Total Occupied Units']\n",
    "full_df['% Renter'] = full_df['Renter occupied']/full_df['Total Occupied Units']\n",
    "full_df = full_df.drop(['Occupied', 'Vacant', 'Owner occupied', 'Renter occupied'], axis = 1)"
   ]
  },
  {
   "cell_type": "code",
   "execution_count": 145,
   "metadata": {},
   "outputs": [],
   "source": [
    "# Reorder columns to match other years\n",
    "reorder = ['GISJOIN_BLOCK','YEAR', 'BLOCKA', 'BLCK_GRPA', 'TRACTA', \n",
    "           'C_CITYA', 'COUNTY','MSA_CMSAA', 'STATE', 'Total Pop', \n",
    "           'Pct_White', 'Pct_Black', 'Pct_Other', 'Total Units', \n",
    "           'Median', '% Occupied', '% Vacant','% Owner Occupied', \n",
    "           '% Renter']\n",
    "\n",
    "full_df = full_df[reorder]"
   ]
  },
  {
   "cell_type": "code",
   "execution_count": 146,
   "metadata": {
    "collapsed": true
   },
   "outputs": [],
   "source": [
    "# Update index column name to match other years, set as index\n",
    "full_df.rename(columns = {'GISJOIN_BLOCK': 'GISJOIN'}, inplace = True)\n",
    "full_df.set_index(keys = 'GISJOIN', inplace = True)"
   ]
  },
  {
   "cell_type": "code",
   "execution_count": 147,
   "metadata": {
    "collapsed": true
   },
   "outputs": [],
   "source": [
    "# Write out df to CSV\n",
    "full_df.to_csv(\"../2000_census_data.csv\", sep = \"|\")"
   ]
  },
  {
   "cell_type": "code",
   "execution_count": null,
   "metadata": {
    "collapsed": true
   },
   "outputs": [],
   "source": []
  }
 ],
 "metadata": {
  "kernelspec": {
   "display_name": "Python 3",
   "language": "python",
   "name": "python3"
  },
  "language_info": {
   "codemirror_mode": {
    "name": "ipython",
    "version": 3
   },
   "file_extension": ".py",
   "mimetype": "text/x-python",
   "name": "python",
   "nbconvert_exporter": "python",
   "pygments_lexer": "ipython3",
   "version": "3.6.3"
  }
 },
 "nbformat": 4,
 "nbformat_minor": 2
}
