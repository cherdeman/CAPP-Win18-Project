{
 "cells": [
  {
   "cell_type": "markdown",
   "metadata": {},
   "source": [
    "Note: code is copied between notebooks (because we are only using it twice and we are using notebooks). Alternatively, we could have one shared notebook for two directories that used the same function, or we could have used non-jupyter notebooks. However, for our purposes, this seemed most efficient."
   ]
  },
  {
   "cell_type": "code",
   "execution_count": 2,
   "metadata": {
    "collapsed": true
   },
   "outputs": [],
   "source": [
    "import pandas as pd\n",
    "import numpy as np\n",
    "import csv \n",
    "import os \n",
    "import re\n",
    "\n",
    "pd.set_option(\"display.max_rows\",101)\n",
    "pd.set_option(\"display.max_columns\",101)\n",
    "pd.set_option(\"display.max_seq_items\",500)"
   ]
  },
  {
   "cell_type": "code",
   "execution_count": 3,
   "metadata": {
    "collapsed": true
   },
   "outputs": [],
   "source": [
    "def read_csv(csv_file):\n",
    "    '''\n",
    "    read in the csv file\n",
    "    \n",
    "    input csv file (data)\n",
    "    returns pandas df of the data for just specified counties\n",
    "    '''\n",
    "    assert os.path.isfile(csv_file), \"csv file does not exist\"\n",
    "\n",
    "    # convert the pd cols from NHGIS names\n",
    "    data = pd.read_csv(csv_file, low_memory=False)\n",
    "\n",
    "    # only keep IL\n",
    "    working_df = data[(data.STATE == 'Illinois') & (data.COUNTY == 'Cook')]\n",
    "    \n",
    "    # SET INDEX\n",
    "    working_df = working_df.set_index('GISJOIN')\n",
    "    \n",
    "    return working_df"
   ]
  },
  {
   "cell_type": "code",
   "execution_count": 4,
   "metadata": {
    "collapsed": true
   },
   "outputs": [],
   "source": [
    "# read in df\n",
    "df104 = read_csv('./nhgis0010_ds104_1980_tract.csv')\n",
    "df116 = read_csv('./nhgis0010_ds116_1980_tract.csv')\n",
    "\n",
    "# identify key variables\n",
    "ALL_PEOPLE = df116.C6W001\n",
    "WHITE_PEOPLE = df116.C6X001\n",
    "BLACK_PEOPLE = df116.C6X002\n",
    "OTHER_PEOPLE = ALL_PEOPLE - BLACK_PEOPLE - WHITE_PEOPLE\n",
    "\n",
    "ALL_UNITS = df104.C8Y001\n",
    "OCCUPIED = df104.C7V001\n",
    "VACANT = ALL_UNITS - OCCUPIED\n",
    "\n",
    "OWNER = df104.C7W001\n",
    "RENTER = df104.C7W002"
   ]
  },
  {
   "cell_type": "code",
   "execution_count": 5,
   "metadata": {
    "collapsed": true
   },
   "outputs": [],
   "source": [
    "# create the variables of interest from our variables\n",
    "final_df = df104[['YEAR', 'TRACTA', 'COUNTY', 'STATE']]\n",
    "final_df = final_df.assign(total_pop = ALL_PEOPLE)\n",
    "final_df = final_df.assign(Pwhite = (WHITE_PEOPLE)/ALL_PEOPLE)\n",
    "final_df = final_df.assign(Pblack = BLACK_PEOPLE/ALL_PEOPLE)\n",
    "final_df = final_df.assign(Pnonwhite = OTHER_PEOPLE/ALL_PEOPLE)\n",
    "final_df = final_df.assign(units = ALL_UNITS)\n",
    "final_df = final_df.assign(occupied = OCCUPIED/ALL_UNITS)\n",
    "final_df = final_df.assign(vacant = VACANT/ALL_UNITS)\n",
    "\n",
    "final_df = final_df.assign(own = OWNER/(OCCUPIED))\n",
    "final_df = final_df.assign(rent = RENTER/(OCCUPIED))\n",
    "final_df = final_df.reset_index()"
   ]
  },
  {
   "cell_type": "code",
   "execution_count": 6,
   "metadata": {},
   "outputs": [],
   "source": [
    "# rename column\n",
    "column_names = ['GISJOIN','YEAR', 'TRACTA', 'COUNTY','STATE', 'Total Pop', '% White', \n",
    "               '% Black', '% Other races', 'Total Units', '% Occupied', \n",
    "               '% Vacant', '% Owner Occupied', '% Renter']\n",
    "\n",
    "# export\n",
    "final_df.to_csv(path_or_buf='1980s_fordb.csv', index=False, header=column_names)"
   ]
  }
 ],
 "metadata": {
  "kernelspec": {
   "display_name": "Python 3",
   "language": "python",
   "name": "python3"
  },
  "language_info": {
   "codemirror_mode": {
    "name": "ipython",
    "version": 3
   },
   "file_extension": ".py",
   "mimetype": "text/x-python",
   "name": "python",
   "nbconvert_exporter": "python",
   "pygments_lexer": "ipython3",
   "version": "3.6.3"
  }
 },
 "nbformat": 4,
 "nbformat_minor": 2
}
