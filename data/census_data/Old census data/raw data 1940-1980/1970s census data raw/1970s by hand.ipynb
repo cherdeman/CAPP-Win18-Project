{
 "cells": [
  {
   "cell_type": "code",
   "execution_count": 2,
   "metadata": {
    "collapsed": true
   },
   "outputs": [],
   "source": [
    "import pandas as pd\n",
    "import numpy as np\n",
    "import csv \n",
    "import os \n",
    "import re\n",
    "\n",
    "pd.set_option(\"display.max_rows\",101)\n",
    "pd.set_option(\"display.max_columns\",101)\n",
    "pd.set_option(\"display.max_seq_items\",500)"
   ]
  },
  {
   "cell_type": "code",
   "execution_count": 3,
   "metadata": {
    "collapsed": true
   },
   "outputs": [],
   "source": [
    "def read_csv(csv_file):\n",
    "    '''\n",
    "    read in the csv file\n",
    "    \n",
    "    input csv file (data)\n",
    "    returns pandas df of the data for just specified counties\n",
    "    '''\n",
    "    assert os.path.isfile(csv_file), \"csv file does not exist\"\n",
    "\n",
    "    # convert the pd cols from NHGIS names\n",
    "    data = pd.read_csv(csv_file, low_memory=False)\n",
    "\n",
    "    # only keep IL\n",
    "    working_df = data[(data.STATE == 'Illinois') & (data.COUNTY == 'Cook')]\n",
    "    \n",
    "    # SET INDEX\n",
    "    working_df = working_df.set_index('GISJOIN')\n",
    "    \n",
    "    return working_df"
   ]
  },
  {
   "cell_type": "code",
   "execution_count": 7,
   "metadata": {
    "collapsed": true
   },
   "outputs": [],
   "source": [
    "# create three dataframes based on the different files\n",
    "df96 = read_csv('./nhgis0009_ds96_1970_tract.csv')\n",
    "df97 = read_csv('./nhgis0016_ds97_1970_tract.csv')\n",
    "df97_2 = read_csv('./nhgis0017_ds97_1970_tract.csv')\n",
    "\n",
    "# pull each type of variable based on the code table. \n",
    "# note: these are defined manually from looking at the code table. \n",
    "ALL_PEOPLE = df97['CY7001'] # table 97\n",
    "BLACK_PEOPLE = df97['CY8001'] # table 97\n",
    "OCCUPIED = df97['CU9001'] # table 97\n",
    "VACANT = df97['CU9002']+ df97['CU9003']+df97['CU9004'] +\\\n",
    "    df97['CU9005'] + df97['CU9006']\n",
    "TOTAL_UNITS = df97_2.CZQ001\n",
    "NON_WHITE_PEOPLE = df96.CM6003 + df96.CM6004\n",
    "OWNER = df96.CK3001 + df96.CK4001 # white and black are separately tabulated\n",
    "RENTER = df96.CK4002 + df96.CK3002 "
   ]
  },
  {
   "cell_type": "code",
   "execution_count": 268,
   "metadata": {
    "collapsed": true
   },
   "outputs": [],
   "source": [
    "# produce variables of interest\n",
    "final_df = df97[['YEAR', 'TRACTA', 'COUNTY', 'STATE']]\n",
    "final_df = final_df.assign(total_pop = ALL_PEOPLE)\n",
    "final_df = final_df.assign(Pwhite = (ALL_PEOPLE - BLACK_PEOPLE - \n",
    "                          NON_WHITE_PEOPLE)/ALL_PEOPLE)\n",
    "final_df = final_df.assign(Pblack = BLACK_PEOPLE/ALL_PEOPLE)\n",
    "final_df = final_df.assign(Pnonwhite = NON_WHITE_PEOPLE/ALL_PEOPLE)\n",
    "final_df = final_df.assign(units = TOTAL_UNITS)\n",
    "final_df = final_df.assign(occupied = OCCUPIED/TOTAL_UNITS)\n",
    "final_df = final_df.assign(vacant = VACANT/TOTAL_UNITS)\n",
    "final_df = final_df.assign(own = OWNER/(OWNER+RENTER)) \n",
    "           # due to slight variation per table, owner+renter is used instead of \"occupied\"\n",
    "final_df = final_df.assign(rent = RENTER/(OWNER+RENTER))\n",
    "final_df = final_df.reset_index()"
   ]
  },
  {
   "cell_type": "code",
   "execution_count": 269,
   "metadata": {
    "collapsed": true
   },
   "outputs": [],
   "source": [
    "# create names and export\n",
    "column_names = ['GISJOIN','YEAR', 'TRACTA', 'COUNTY','STATE', 'Total Pop', '% White', \n",
    "               '% Black', '% Other races', 'Total Units', '% Occupied', \n",
    "               '% Vacant', '% Owner Occupied', '% Renter']\n",
    "\n",
    "final_df.to_csv(path_or_buf='1970S_fordb.csv', index=False, header=column_names)"
   ]
  }
 ],
 "metadata": {
  "kernelspec": {
   "display_name": "Python 3",
   "language": "python",
   "name": "python3"
  },
  "language_info": {
   "codemirror_mode": {
    "name": "ipython",
    "version": 3
   },
   "file_extension": ".py",
   "mimetype": "text/x-python",
   "name": "python",
   "nbconvert_exporter": "python",
   "pygments_lexer": "ipython3",
   "version": "3.6.3"
  }
 },
 "nbformat": 4,
 "nbformat_minor": 2
}
