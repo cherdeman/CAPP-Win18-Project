{
 "cells": [
  {
   "cell_type": "code",
   "execution_count": 9,
   "metadata": {
    "collapsed": true
   },
   "outputs": [],
   "source": [
    "import pandas as pd\n",
    "import os"
   ]
  },
  {
   "cell_type": "code",
   "execution_count": 10,
   "metadata": {
    "collapsed": true
   },
   "outputs": [],
   "source": [
    "absolute_filepath = '/Volumes/Lexar/educational_attainment/'"
   ]
  },
  {
   "cell_type": "code",
   "execution_count": 11,
   "metadata": {
    "collapsed": true
   },
   "outputs": [],
   "source": [
    "col_mapper = {'B69AA1970':'1970: 25+ Less than 9th grade',\n",
    "              'B69AA1980':'1980: 25+ Less than 9th grade',\n",
    "              'B69AA1990':'1990: 25+ Less than 9th grade',\n",
    "              'B69AA2000':'2000: 25+ Less than 9th grade',\n",
    "              'B69AA125':'2008-2012: 25+ Less than 9th grade',\n",
    "              'B69AA125M':'Margin of error: 2008-2012: 25+ Less than 9th grade',\n",
    "              'B69AB1970':'1970: 25+ 9th grade to 3 years of college',\n",
    "              'B69AB1980':'1980: 25+ 9th grade to 3 years of college',\n",
    "              'B69AB1990':'1990: 25+ 9th grade to some college or associates degree',\n",
    "              'B69AB2000':'2000: 25+ 9th grade to some college or associates degree',\n",
    "              'B69AB125':'2008-2012: 25+ 9th grade to some college or associates degree',\n",
    "              'B69AB125M':'Margin of error: 2008-2012: 25+ 9th grade to some college or associates degree',\n",
    "              'B69AC1970':'1970: 25+ 4 or more years of college',\n",
    "              'B69AC1980':'1980: 25+ 4 or more years of college',\n",
    "              'B69AC1990':'1990: 25+ bachelors degree or higher',\n",
    "              'B69AC2000':'2000: 25+ bachelors degree or higher',\n",
    "              'B69AC125':'2008-2012: Persons: 25+ bachelors degree or higher',\n",
    "              'B69AC125M':'Margin of error: 2008-2012: Persons: 25+ bachelors degree or higher'}"
   ]
  },
  {
   "cell_type": "code",
   "execution_count": 12,
   "metadata": {
    "collapsed": true
   },
   "outputs": [],
   "source": [
    "drop_cols = ['1970: 25+ Less than 9th grade', '1980: 25+ Less than 9th grade',\n",
    "              '1990: 25+ Less than 9th grade','2000: 25+ Less than 9th grade',\n",
    "              '2008-2012: 25+ Less than 9th grade','Margin of error: 2008-2012: 25+ Less than 9th grade',\n",
    "              '1970: 25+ 9th grade to 3 years of college','1980: 25+ 9th grade to 3 years of college',\n",
    "              '1990: 25+ 9th grade to some college or associates degree',\n",
    "              '2000: 25+ 9th grade to some college or associates degree',\n",
    "              '2008-2012: 25+ 9th grade to some college or associates degree',\n",
    "              'Margin of error: 2008-2012: 25+ 9th grade to some college or associates degree',\n",
    "              '1970: 25+ 4 or more years of college','1980: 25+ 4 or more years of college',\n",
    "              '1990: 25+ bachelors degree or higher','2000: 25+ bachelors degree or higher',\n",
    "              '2008-2012: Persons: 25+ bachelors degree or higher',\n",
    "              'Margin of error: 2008-2012: Persons: 25+ bachelors degree or higher',\n",
    "             'COUNTYFP', 'COUNTYNH', 'NAME1970', 'NAME1980', 'NAME1990', 'NAME2000', \n",
    "             'NAME2012', 'STATEFP', 'STATENH']"
   ]
  },
  {
   "cell_type": "code",
   "execution_count": 13,
   "metadata": {},
   "outputs": [],
   "source": [
    "# Load educational attainment data into df\n",
    "if os.path.exists(absolute_filepath + 'nhgis0014_ts_nominal_tract.csv'):\n",
    "    edu_attainment_df = pd.read_csv(absolute_filepath + 'nhgis0014_ts_nominal_tract.csv', \n",
    "                                    encoding = \"ISO-8859-1\", index_col = 0)\n",
    "else:\n",
    "    raise IOError('This file does not exists in this location')"
   ]
  },
  {
   "cell_type": "code",
   "execution_count": 14,
   "metadata": {},
   "outputs": [],
   "source": [
    "edu_attainment_df.rename(columns = col_mapper, inplace = True)"
   ]
  },
  {
   "cell_type": "code",
   "execution_count": 15,
   "metadata": {},
   "outputs": [],
   "source": [
    "chi_edu_df = edu_attainment_df[edu_attainment_df['STATE'] == 'Illinois']"
   ]
  },
  {
   "cell_type": "code",
   "execution_count": 16,
   "metadata": {},
   "outputs": [],
   "source": [
    "# Calculate total population and assign to a column\n",
    "total_1970 = chi_edu_df.loc[:,('1970: 25+ Less than 9th grade','1970: 25+ 9th grade to 3 years of college','1970: 25+ 4 or more years of college')].sum(axis = 1)\n",
    "total_1980 = chi_edu_df.loc[:,('1980: 25+ Less than 9th grade','1980: 25+ 9th grade to 3 years of college','1980: 25+ 4 or more years of college')].sum(axis = 1)\n",
    "total_1990 = chi_edu_df.loc[:,('1990: 25+ Less than 9th grade','1990: 25+ 9th grade to some college or associates degree','1990: 25+ bachelors degree or higher')].sum(axis = 1)\n",
    "total_2000 = chi_edu_df.loc[:,('2000: 25+ Less than 9th grade','2000: 25+ 9th grade to some college or associates degree','2000: 25+ bachelors degree or higher')].sum(axis = 1)\n",
    "total_2010 = chi_edu_df.loc[:,('2008-2012: 25+ Less than 9th grade','2008-2012: 25+ 9th grade to some college or associates degree','2008-2012: Persons: 25+ bachelors degree or higher')].sum(axis = 1)\n",
    "chi_edu_df = chi_edu_df.assign(Total_1970 = total_1970)\n",
    "chi_edu_df = chi_edu_df.assign(Total_1980 = total_1980)\n",
    "chi_edu_df = chi_edu_df.assign(Total_1990 = total_1990)\n",
    "chi_edu_df = chi_edu_df.assign(Total_2000 = total_2000)\n",
    "chi_edu_df = chi_edu_df.assign(Total_2010 = total_2010)"
   ]
  },
  {
   "cell_type": "code",
   "execution_count": 17,
   "metadata": {
    "collapsed": true
   },
   "outputs": [],
   "source": [
    "# Calculate proportion achieving highest level of educational attainment and assign to a column\n",
    "prop_1970 = chi_edu_df.loc[:,'1970: 25+ 4 or more years of college']/chi_edu_df.loc[:,'Total_1970']\n",
    "prop_1980 = chi_edu_df.loc[:,'1980: 25+ 4 or more years of college']/chi_edu_df.loc[:,'Total_1980']\n",
    "prop_1990 = chi_edu_df.loc[:,'1990: 25+ bachelors degree or higher']/chi_edu_df.loc[:,'Total_1990']\n",
    "prop_2000 = chi_edu_df.loc[:,'2000: 25+ bachelors degree or higher']/chi_edu_df.loc[:,'Total_2000']\n",
    "prop_2010 = chi_edu_df.loc[:,'2008-2012: Persons: 25+ bachelors degree or higher']/chi_edu_df.loc[:,'Total_2010']\n",
    "chi_edu_df = chi_edu_df.assign(High_Attainment_1970 = prop_1970)\n",
    "chi_edu_df = chi_edu_df.assign(High_Attainment_1980 = prop_1980)\n",
    "chi_edu_df = chi_edu_df.assign(High_Attainment_1990 = prop_1990)\n",
    "chi_edu_df = chi_edu_df.assign(High_Attainment_2000 = prop_2000)\n",
    "chi_edu_df = chi_edu_df.assign(High_Attainment_2010 = prop_2010)"
   ]
  },
  {
   "cell_type": "code",
   "execution_count": 18,
   "metadata": {
    "collapsed": true
   },
   "outputs": [],
   "source": [
    "chi_edu_df.drop(drop_cols, axis = 1, inplace = True)"
   ]
  },
  {
   "cell_type": "code",
   "execution_count": 20,
   "metadata": {
    "collapsed": true
   },
   "outputs": [],
   "source": [
    "chi_edu_df.to_csv(\"edu_attainment_data_1970_2010.csv\", sep = \"|\")"
   ]
  },
  {
   "cell_type": "code",
   "execution_count": null,
   "metadata": {
    "collapsed": true
   },
   "outputs": [],
   "source": []
  }
 ],
 "metadata": {
  "kernelspec": {
   "display_name": "Python 3",
   "language": "python",
   "name": "python3"
  },
  "language_info": {
   "codemirror_mode": {
    "name": "ipython",
    "version": 3
   },
   "file_extension": ".py",
   "mimetype": "text/x-python",
   "name": "python",
   "nbconvert_exporter": "python",
   "pygments_lexer": "ipython3",
   "version": "3.6.3"
  }
 },
 "nbformat": 4,
 "nbformat_minor": 2
}
