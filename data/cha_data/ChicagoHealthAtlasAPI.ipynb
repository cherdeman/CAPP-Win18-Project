{
 "cells": [
  {
   "cell_type": "code",
   "execution_count": 3,
   "metadata": {},
   "outputs": [],
   "source": [
    "import requests\n",
    "import json\n",
    "import pandas as pd\n",
    "import ast\n",
    "from jsonschema import validate\n",
    "import geojson\n"
   ]
  },
  {
   "cell_type": "code",
   "execution_count": 5,
   "metadata": {},
   "outputs": [
    {
     "name": "stdout",
     "output_type": "stream",
     "text": [
      "<class 'str'>\n"
     ]
    },
    {
     "ename": "AttributeError",
     "evalue": "'str' object has no attribute 'is_valid'",
     "output_type": "error",
     "traceback": [
      "\u001b[0;31m---------------------------------------------------------------------------\u001b[0m",
      "\u001b[0;31mAttributeError\u001b[0m                            Traceback (most recent call last)",
      "\u001b[0;32m<ipython-input-5-cf50595962b6>\u001b[0m in \u001b[0;36m<module>\u001b[0;34m()\u001b[0m\n\u001b[1;32m     12\u001b[0m \u001b[0mdata\u001b[0m \u001b[0;34m=\u001b[0m \u001b[0mgeojson\u001b[0m\u001b[0;34m.\u001b[0m\u001b[0mdumps\u001b[0m\u001b[0;34m(\u001b[0m\u001b[0mplaces_data\u001b[0m\u001b[0;34m)\u001b[0m\u001b[0;34m\u001b[0m\u001b[0m\n\u001b[1;32m     13\u001b[0m \u001b[0mprint\u001b[0m\u001b[0;34m(\u001b[0m\u001b[0mtype\u001b[0m\u001b[0;34m(\u001b[0m\u001b[0mdata\u001b[0m\u001b[0;34m)\u001b[0m\u001b[0;34m)\u001b[0m\u001b[0;34m\u001b[0m\u001b[0m\n\u001b[0;32m---> 14\u001b[0;31m \u001b[0mdata\u001b[0m\u001b[0;34m.\u001b[0m\u001b[0mis_valid\u001b[0m\u001b[0;34m\u001b[0m\u001b[0m\n\u001b[0m\u001b[1;32m     15\u001b[0m \u001b[0;32mwith\u001b[0m \u001b[0mopen\u001b[0m\u001b[0;34m(\u001b[0m\u001b[0;34m'CHA_places.json'\u001b[0m\u001b[0;34m,\u001b[0m \u001b[0;34m'w'\u001b[0m\u001b[0;34m)\u001b[0m \u001b[0;32mas\u001b[0m \u001b[0mdata_file\u001b[0m\u001b[0;34m:\u001b[0m\u001b[0;34m\u001b[0m\u001b[0m\n\u001b[1;32m     16\u001b[0m     \u001b[0mdata_file\u001b[0m\u001b[0;34m.\u001b[0m\u001b[0mwrite\u001b[0m\u001b[0;34m(\u001b[0m\u001b[0mdata\u001b[0m\u001b[0;34m)\u001b[0m\u001b[0;34m\u001b[0m\u001b[0m\n",
      "\u001b[0;31mAttributeError\u001b[0m: 'str' object has no attribute 'is_valid'"
     ]
    }
   ],
   "source": [
    "#Get data on community areas \n",
    "r_places = requests.get('https://chicagohealth.herokuapp.com/api/v1/places')\n",
    "places_data = r_places.json()\n",
    "for result in places_data[\"community_areas\"]:\n",
    "    for key, val in ast.literal_eval(result[\"geometry\"]).items(): \n",
    "        if type(key) == str:\n",
    "            key.replace('\\\\', '') \n",
    "        if type(val) == str:\n",
    "            val.replace('\\\\', '') \n",
    "    \n",
    "    \n",
    "                \n",
    "\n",
    "data = geojson.dumps(places_data)\n",
    "print(type(data))\n",
    "with open('CHA_places.json', 'w') as data_file:\n",
    "    data_file.write(data)\n",
    "    data_file.close\n",
    "    \n",
    "\n"
   ]
  },
  {
   "cell_type": "code",
   "execution_count": 3,
   "metadata": {
    "collapsed": true
   },
   "outputs": [],
   "source": [
    "#Get data on all resources in chicago\n",
    "r_resources = requests.get('https://chicagohealth.herokuapp.com/api/v1/resources_all')\n",
    "resources_data = r_resources.json()"
   ]
  },
  {
   "cell_type": "code",
   "execution_count": 12,
   "metadata": {},
   "outputs": [
    {
     "name": "stdout",
     "output_type": "stream",
     "text": [
      "<class 'str'>\n"
     ]
    }
   ],
   "source": [
    "CHAplaces = {\n",
    "  \"type\": \"FeatureCollection\",\n",
    "  \"features\": []}\n",
    "\n",
    "for result in places_data[\"community_areas\"]:\n",
    "    CHAplaces[\"features\"].append({\n",
    "    \"type\": \"Feature\",\n",
    "    \"properties\": {\"name\": result[\"name\"], \"slug\": result[\"slug\"]},\n",
    "    \"geometry\": {\n",
    "      \"type\": \"GeometryCollection\", \n",
    "      \"geometries\": [ \n",
    "        { \"type\": \"Point\",\n",
    "          \"coordinates\": result[\"centroid\"]},\n",
    "        {\"type\": \"MultiPolygon\",\n",
    "          \"coordinates\":ast.literal_eval(result[\"geometry\"])[\"coordinates\"]}]}})\n",
    "\n",
    "\n",
    "\n",
    "data = geojson.dumps(CHAplaces)\n",
    "print(type(data))\n",
    "with open('CHA_places_test.json', 'w') as data_file:\n",
    "    data_file.write(data)\n",
    "    data_file.close\n",
    "    \n",
    "\n",
    "\n",
    "    \n",
    "\n",
    "#neighborhoods = pd.DataFrame({'name': geo_name, 'centroid': centroid, 'geom_type': geom_type, 'geom_coord': geom_coord})\n",
    "#neighborhoods.to_csv(\"./data/neighborhoods.csv\")ast.literal_eval(result[\"geometry\"])[\"coordinates\"]"
   ]
  },
  {
   "cell_type": "code",
   "execution_count": 4,
   "metadata": {
    "collapsed": true
   },
   "outputs": [],
   "source": [
    "#Get 1990, 2000, 2010 data on life expectancy\n",
    "r_le_1990 = requests.get('https://chicagohealth.herokuapp.com/api/v1/topic_area/1990/life-expectancy')\n",
    "r_le_2000 = requests.get('https://chicagohealth.herokuapp.com/api/v1/topic_area/2000/life-expectancy')\n",
    "r_le_2010 = requests.get('https://chicagohealth.herokuapp.com/api/v1/topic_area/2010/life-expectancy')"
   ]
  },
  {
   "cell_type": "code",
   "execution_count": 5,
   "metadata": {
    "collapsed": true
   },
   "outputs": [],
   "source": [
    "le_1990_data = r_le_1990.json()\n",
    "le_2000_data = r_le_2000.json()\n",
    "le_2010_data = r_le_2010.json() "
   ]
  },
  {
   "cell_type": "code",
   "execution_count": 6,
   "metadata": {
    "collapsed": true
   },
   "outputs": [],
   "source": [
    "#Convert to Pandas DF and then to CSV\n",
    "\n",
    "geo_name, geo_id, ind_id, le, year = [],[],[],[], []\n",
    "for result in le_1990_data:\n",
    "    geo_name.append(result[\"geo_group_name\"])\n",
    "    geo_id.append(result[\"id\"])\n",
    "    ind_id.append(result[\"indicator\"][\"id\"])\n",
    "    le.append(result[\"number\"])\n",
    "    year.append(1990)\n",
    "\n",
    "for result in le_2000_data:\n",
    "    geo_name.append(result[\"geo_group_name\"])\n",
    "    geo_id.append(result[\"id\"])\n",
    "    ind_id.append(result[\"indicator\"][\"id\"])\n",
    "    le.append(result[\"number\"])\n",
    "    year.append(2000)\n",
    "\n",
    "for result in le_2010_data:\n",
    "    geo_name.append(result[\"geo_group_name\"])\n",
    "    geo_id.append(result[\"id\"])\n",
    "    ind_id.append(result[\"indicator\"][\"id\"])\n",
    "    le.append(result[\"number\"])\n",
    "    year.append(2010)\n",
    "le_CHA = pd.DataFrame({'geo_name': geo_name, 'geo_id': geo_id, 'ind_id': ind_id, 'life_exp': le, 'year': year})\n",
    "le_CHA.to_csv(\"./data/CHA_le.csv\", index = False)"
   ]
  },
  {
   "cell_type": "code",
   "execution_count": 7,
   "metadata": {
    "collapsed": true
   },
   "outputs": [],
   "source": [
    "#Get 2016 overall health status data\n",
    "r_ohs_2016 = requests.get('https://chicagohealth.herokuapp.com/api/v1/topic_area/2014-2016/overall-health-status')\n",
    "ohs_2016_data = r_ohs_2016.json()\n",
    "\n",
    "geo_name, geo_id, ind_id, ohs_low_ci, ohs_hi_ci, wt_num, ohs_weight = [],[],[],[],[],[], []\n",
    "for result in ohs_2016_data:\n",
    "    geo_name.append(result[\"geo_group_name\"])\n",
    "    geo_id.append(result[\"id\"])\n",
    "    ind_id.append(result[\"indicator\"][\"id\"])\n",
    "    le.append(result[\"number\"])\n",
    "    ohs_low_ci.append(result[\"lower_95ci_weight_percent\"])\n",
    "    ohs_hi_ci.append(result[\"upper_95ci_weight_percent\"])\n",
    "    wt_num.append(result[\"weight_number\"])\n",
    "    ohs_weight.append(result[\"weight_percent\"])\n",
    "ohs_2016 = pd.DataFrame({'geo_name': geo_name, 'geo_id': geo_id, 'ind_id': ind_id, 'ohs_low_ci': ohs_low_ci, 'ohs_hi_ci': ohs_hi_ci, \n",
    "                       'wt_num': wt_num, 'ohs_weight': ohs_weight})\n",
    "ohs_2016['year'] = 2016\n",
    "ohs_2016.to_csv(\"./data/ohs_2016.csv\", index = False)"
   ]
  },
  {
   "cell_type": "code",
   "execution_count": null,
   "metadata": {
    "collapsed": true
   },
   "outputs": [],
   "source": []
  },
  {
   "cell_type": "code",
   "execution_count": 8,
   "metadata": {
    "collapsed": true
   },
   "outputs": [],
   "source": [
    "#Get 2000, 2010 infant mortality data\n",
    "r_im_2000 = requests.get('https://chicagohealth.herokuapp.com/api/v1/topic_area/2000-2004/infant-mortality')\n",
    "r_im_2010 = requests.get('https://chicagohealth.herokuapp.com/api/v1/topic_area/2010-2014/infant-mortality')\n",
    "r_im_2000_data = r_im_2000.json()\n",
    "r_im_2010_data = r_im_2010.json()\n",
    "\n",
    "geo_name, geo_id, ind_id, im_crude, im_avg, year = [],[],[],[], [], []\n",
    "for result in r_im_2000_data:\n",
    "    geo_name.append(result[\"geo_group_name\"])\n",
    "    geo_id.append(result[\"id\"])\n",
    "    ind_id.append(result[\"indicator\"][\"id\"])\n",
    "    im_crude.append(result[\"crude_rate\"])\n",
    "    im_avg.append(result[\"ave_annual_number\"])\n",
    "    year.append(2000)\n",
    "\n",
    "for result in r_im_2010_data:\n",
    "    geo_name.append(result[\"geo_group_name\"])\n",
    "    geo_id.append(result[\"id\"])\n",
    "    ind_id.append(result[\"indicator\"][\"id\"])\n",
    "    im_crude.append(result[\"crude_rate\"])\n",
    "    im_avg.append(result[\"ave_annual_number\"])\n",
    "    year.append(2010)\n",
    "CHA_im = pd.DataFrame({'geo_name': geo_name, 'geo_id': geo_id, 'ind_id': ind_id, 'inf_mort_crude': im_crude, 'inf_mort_avg': im_avg, 'year': year})\n",
    "CHA_im.to_csv(\"./data/CHA_im.csv\", index = False)"
   ]
  },
  {
   "cell_type": "code",
   "execution_count": null,
   "metadata": {
    "collapsed": true
   },
   "outputs": [],
   "source": []
  },
  {
   "cell_type": "code",
   "execution_count": null,
   "metadata": {
    "collapsed": true
   },
   "outputs": [],
   "source": []
  }
 ],
 "metadata": {
  "kernelspec": {
   "display_name": "Python 3",
   "language": "python",
   "name": "python3"
  },
  "language_info": {
   "codemirror_mode": {
    "name": "ipython",
    "version": 3
   },
   "file_extension": ".py",
   "mimetype": "text/x-python",
   "name": "python",
   "nbconvert_exporter": "python",
   "pygments_lexer": "ipython3",
   "version": "3.6.3"
  }
 },
 "nbformat": 4,
 "nbformat_minor": 2
}
