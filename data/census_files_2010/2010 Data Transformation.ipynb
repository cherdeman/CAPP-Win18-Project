{
 "cells": [
  {
   "cell_type": "code",
   "execution_count": 363,
   "metadata": {
    "collapsed": true
   },
   "outputs": [],
   "source": [
    "import pandas as pd\n",
    "import os"
   ]
  },
  {
   "cell_type": "code",
   "execution_count": 364,
   "metadata": {
    "collapsed": true
   },
   "outputs": [],
   "source": [
    "absolute_filepath = '/Users/claire/Documents/CS 122 Project Files/2010 data/'"
   ]
  },
  {
   "cell_type": "code",
   "execution_count": 365,
   "metadata": {
    "collapsed": true
   },
   "outputs": [],
   "source": [
    "drop_cols_housing = ['REGIONA','DIVISIONA','STATEA','COUNTYA','COUSUBA','PLACEA','RES_ONLYA',\n",
    "             'TRUSTA','AIANHHA','AITSCEA','TTRACTA','TBLKGRPA','ANRCA','NECTAA','NECTADIVA','CNECTAA',\n",
    "             'UAA','URBRURALA','CDA','SLDUA','SLDLA','ZCTA5A','SUBMCDA','SDELMA','SDSECA','SDUNIA',\n",
    "             'SABINSA','METDIVA', 'CSAA', 'NAME','IFC001','IFG001','IFG002','IFG003','IFG004','IFG005','IFG006','IFG007','IFG008',\n",
    "             'IFH001','IFH002','IFH003','IFH004','IFH005','IFH006','IFH007','IFH008']\n",
    "\n",
    "drop_cols_median = ['YEAR','REGIONA','DIVISIONA','STATE','STATEA','COUNTY','COUNTYA','COUSUBA','PLACEA',\n",
    "                    'TRACTA','BLKGRPA','CONCITA','AIANHHA','RES_ONLYA','TRUSTA','AITSCEA','ANRCA','CBSAA',\n",
    "                    'CSAA','METDIVA','NECTAA','CNECTAA','NECTADIVA','UAA','CDCURRA','SLDUA','SLDLA','SUBMCDA',\n",
    "                    'SDELMA','SDSECA','SDUNIA','PUMA5A','BTTRA','BTBGA','NAME_M', 'NAME_E', 'JTIM001']"
   ]
  },
  {
   "cell_type": "code",
   "execution_count": 366,
   "metadata": {
    "collapsed": true
   },
   "outputs": [],
   "source": [
    "housing_col_mapper = {'H7X001':'Total Pop','H7X002':'White alone','H7X003':'Black or African American alone',\n",
    "                 'H7X004':'American Indian and Alaska Native alone', 'H7X005':'Asian alone',\n",
    "                 'H7X006':'Native Hawaiian and Other Pacific Islander alone', 'H7X007':'Some Other Race alone',\n",
    "                 'H7X008':'Two or More Races', 'IFE001':'Total Units','IFE002':'Occupied','IFE003':'Vacant',\n",
    "                 'IFF001':'Total Occupied Units','IFF002':'Owned with a mortgage or a loan','IFF003':'Owned free and clear',\n",
    "                 'IFF004':'Renter occupied', 'BLKGRPA': 'BLCK_GRPA', 'CONCITA':'C_CITYA'}\n",
    "\n",
    "median_col_mapper = {'JTIE001':'Median'}"
   ]
  },
  {
   "cell_type": "code",
   "execution_count": 367,
   "metadata": {
    "collapsed": true
   },
   "outputs": [],
   "source": [
    "chicago_cbsa_code = 16980"
   ]
  },
  {
   "cell_type": "code",
   "execution_count": 368,
   "metadata": {},
   "outputs": [
    {
     "name": "stderr",
     "output_type": "stream",
     "text": [
      "/Users/claire/anaconda3/lib/python3.6/site-packages/IPython/core/interactiveshell.py:2698: DtypeWarning: Columns (30,31) have mixed types. Specify dtype option on import or set low_memory=False.\n",
      "  interactivity=interactivity, compiler=compiler, result=result)\n"
     ]
    }
   ],
   "source": [
    "# Load housing data into df\n",
    "if os.path.exists(absolute_filepath + 'nhgis0012_ds172_2010_block.csv'):\n",
    "    housing_df = pd.read_csv(absolute_filepath + 'nhgis0012_ds172_2010_block.csv').drop(drop_cols_housing, axis = 1)\n",
    "else:\n",
    "    raise IOError('This file does not exists in this location')"
   ]
  },
  {
   "cell_type": "code",
   "execution_count": 369,
   "metadata": {},
   "outputs": [],
   "source": [
    "# Load median data into df\n",
    "if os.path.exists(absolute_filepath + 'nhgis0012_ds176_20105_2010_tract.csv'):\n",
    "    median_df = pd.read_csv(absolute_filepath + 'nhgis0012_ds176_20105_2010_tract.csv', encoding = \"ISO-8859-1\").drop(drop_cols_median, axis = 1)\n",
    "else:\n",
    "    raise IOError('This file does not exists in this location')"
   ]
  },
  {
   "cell_type": "code",
   "execution_count": 370,
   "metadata": {},
   "outputs": [
    {
     "name": "stderr",
     "output_type": "stream",
     "text": [
      "/Users/claire/anaconda3/lib/python3.6/site-packages/pandas/core/frame.py:2746: SettingWithCopyWarning: \n",
      "A value is trying to be set on a copy of a slice from a DataFrame\n",
      "\n",
      "See the caveats in the documentation: http://pandas.pydata.org/pandas-docs/stable/indexing.html#indexing-view-versus-copy\n",
      "  **kwargs)\n"
     ]
    }
   ],
   "source": [
    "# Subset on Chicago CBSA code\n",
    "chi_housing_df = housing_df[housing_df['CBSAA'] == chicago_cbsa_code]\n",
    "chi_housing_df.rename(columns = housing_col_mapper, inplace = True)"
   ]
  },
  {
   "cell_type": "code",
   "execution_count": 371,
   "metadata": {
    "collapsed": true
   },
   "outputs": [],
   "source": [
    "# Rename columns in the median df\n",
    "median_df.rename(columns = median_col_mapper, inplace = True)"
   ]
  },
  {
   "cell_type": "code",
   "execution_count": 372,
   "metadata": {},
   "outputs": [
    {
     "name": "stderr",
     "output_type": "stream",
     "text": [
      "/Users/claire/anaconda3/lib/python3.6/site-packages/ipykernel_launcher.py:2: SettingWithCopyWarning: \n",
      "A value is trying to be set on a copy of a slice from a DataFrame.\n",
      "Try using .loc[row_indexer,col_indexer] = value instead\n",
      "\n",
      "See the caveats in the documentation: http://pandas.pydata.org/pandas-docs/stable/indexing.html#indexing-view-versus-copy\n",
      "  \n",
      "/Users/claire/anaconda3/lib/python3.6/site-packages/pandas/core/frame.py:2746: SettingWithCopyWarning: \n",
      "A value is trying to be set on a copy of a slice from a DataFrame\n",
      "\n",
      "See the caveats in the documentation: http://pandas.pydata.org/pandas-docs/stable/indexing.html#indexing-view-versus-copy\n",
      "  **kwargs)\n"
     ]
    }
   ],
   "source": [
    "# Shorten GISJOIN field to exclude block identifiers so that it can be used to match values\n",
    "chi_housing_df['GIS_SHORT'] = chi_housing_df['GISJOIN'].str[:14]\n",
    "chi_housing_df.rename(columns = {'GISJOIN': 'GISJOIN_BLOCK'}, inplace = True)"
   ]
  },
  {
   "cell_type": "code",
   "execution_count": 373,
   "metadata": {},
   "outputs": [],
   "source": [
    "# Merge median and raw dfs on shortened GISJOIN field\n",
    "full_df = chi_housing_df.merge(median_df,left_on = ['GIS_SHORT'], right_on = ['GISJOIN'])"
   ]
  },
  {
   "cell_type": "code",
   "execution_count": 374,
   "metadata": {},
   "outputs": [],
   "source": [
    "# Combine race categories\n",
    "full_df['Other races'] = full_df[['American Indian and Alaska Native alone', 'Asian alone',\n",
    "       'Native Hawaiian and Other Pacific Islander alone',\n",
    "       'Some Other Race alone', 'Two or More Races']].sum(axis = 1)\n",
    "full_df = full_df.drop(['American Indian and Alaska Native alone', 'Asian alone',\n",
    "       'Native Hawaiian and Other Pacific Islander alone',\n",
    "       'Some Other Race alone', 'Two or More Races'], axis = 1)"
   ]
  },
  {
   "cell_type": "code",
   "execution_count": 375,
   "metadata": {},
   "outputs": [],
   "source": [
    "# Calculate race percentages\n",
    "full_df['% White'] = full_df['White alone']/full_df['Total Pop']\n",
    "full_df['% Black'] = full_df['Black or African American alone']/full_df['Total Pop']\n",
    "full_df['% Other races'] = full_df['Other races']/full_df['Total Pop']\n",
    "full_df = full_df.drop(['White alone', 'Black or African American alone','Other races'], axis = 1)"
   ]
  },
  {
   "cell_type": "code",
   "execution_count": 376,
   "metadata": {},
   "outputs": [],
   "source": [
    "# Calculate unit occupancy/vacancy percentages\n",
    "full_df['Owner occupied'] = full_df[['Owned with a mortgage or a loan','Owned free and clear']].sum(axis = 1)\n",
    "full_df['% Occupied'] = full_df['Total Occupied Units']/full_df['Total Units']\n",
    "full_df['% Vacant'] = full_df['Vacant']/full_df['Total Units']\n",
    "full_df['% Owner Occupied'] = full_df['Owner occupied']/full_df['Total Occupied Units']\n",
    "full_df['% Renter'] = full_df['Renter occupied']/full_df['Total Occupied Units']\n",
    "full_df = full_df.drop(['Occupied', 'Vacant', 'Owned with a mortgage or a loan','Owned free and clear', 'Renter occupied'], axis = 1)"
   ]
  },
  {
   "cell_type": "code",
   "execution_count": 377,
   "metadata": {},
   "outputs": [],
   "source": [
    "# Update index column name to match other years, set as index\n",
    "full_df.drop(['GISJOIN', 'GIS_SHORT'], axis = 1, inplace = True)\n",
    "full_df.rename(columns = {'GISJOIN_BLOCK': 'GISJOIN'}, inplace = True)\n",
    "full_df.set_index(keys = 'GISJOIN', inplace = True)"
   ]
  },
  {
   "cell_type": "code",
   "execution_count": 378,
   "metadata": {
    "collapsed": true
   },
   "outputs": [],
   "source": [
    "# Reorder columns to match other years\n",
    "reorder = ['YEAR', 'BLOCKA', 'BLCK_GRPA', 'TRACTA', 'C_CITYA', 'COUNTY',\n",
    "       'CBSAA', 'STATE', 'Total Pop', '% White', '% Black',\n",
    "       '% Other races', 'Total Units', 'Median', '% Occupied', '% Vacant',\n",
    "       '% Owner Occupied', '% Renter']\n",
    "\n",
    "full_df = full_df[reorder]"
   ]
  },
  {
   "cell_type": "code",
   "execution_count": 379,
   "metadata": {
    "collapsed": true
   },
   "outputs": [],
   "source": [
    "# Write df out to CSV\n",
    "full_df.to_csv(\"2010_census_data.csv\", sep = \"|\")"
   ]
  },
  {
   "cell_type": "code",
   "execution_count": null,
   "metadata": {
    "collapsed": true
   },
   "outputs": [],
   "source": []
  }
 ],
 "metadata": {
  "kernelspec": {
   "display_name": "Python 3",
   "language": "python",
   "name": "python3"
  },
  "language_info": {
   "codemirror_mode": {
    "name": "ipython",
    "version": 3
   },
   "file_extension": ".py",
   "mimetype": "text/x-python",
   "name": "python",
   "nbconvert_exporter": "python",
   "pygments_lexer": "ipython3",
   "version": "3.6.3"
  }
 },
 "nbformat": 4,
 "nbformat_minor": 2
}
